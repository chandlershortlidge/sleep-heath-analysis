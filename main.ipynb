{
 "cells": [
  {
   "cell_type": "markdown",
   "id": "5e7fa98a",
   "metadata": {},
   "source": [
    "## Sleep Health Analysis\n",
    "\n",
    "### Business objective: create a new health app or device with the objective of delivering the highest ROI to a user's overall health. \n",
    "\n",
    "##### **Idea:** Healthy sleep is one of the most essential aspects of health. Let's help users increase their daily activity, which we believe has an outsized impact on sleep duration and quality."
   ]
  },
  {
   "cell_type": "code",
   "execution_count": 36,
   "id": "02c892f8",
   "metadata": {},
   "outputs": [],
   "source": [
    "import numpy as np\n",
    "import scipy as sp \n",
    "import pandas as pd \n",
    "import matplotlib as mp\n",
    "import matplotlib.pyplot as plt\n",
    "import seaborn as sns\n",
    "import cleaning as cl\n",
    "import functions as fn\n",
    "import importlib\n",
    "importlib.reload(cl)\n",
    "importlib.reload(fn)\n",
    "from scipy.stats import pearsonr\n",
    "import scipy.stats as st\n",
    "from sklearn.model_selection import train_test_split\n",
    "from sklearn.metrics import mean_squared_error, mean_absolute_error, r2_score\n",
    "from sklearn.linear_model import LinearRegression\n",
    "from scipy.stats import pearsonr"
   ]
  },
  {
   "cell_type": "code",
   "execution_count": 37,
   "id": "6b521eff",
   "metadata": {},
   "outputs": [],
   "source": [
    "# import data\n",
    "health = pd.read_csv(\"/Users/chandlershortlidge/Desktop/Ironhack/sleep-heath-analysis/data/Sleep_health_and_lifestyle_dataset.csv\")"
   ]
  },
  {
   "cell_type": "code",
   "execution_count": 38,
   "id": "1ed6870c",
   "metadata": {},
   "outputs": [
    {
     "name": "stdout",
     "output_type": "stream",
     "text": [
      "<class 'pandas.core.frame.DataFrame'>\n",
      "RangeIndex: 374 entries, 0 to 373\n",
      "Data columns (total 13 columns):\n",
      " #   Column                   Non-Null Count  Dtype  \n",
      "---  ------                   --------------  -----  \n",
      " 0   Person ID                374 non-null    int64  \n",
      " 1   Gender                   374 non-null    object \n",
      " 2   Age                      374 non-null    int64  \n",
      " 3   Occupation               374 non-null    object \n",
      " 4   Sleep Duration           374 non-null    float64\n",
      " 5   Quality of Sleep         374 non-null    int64  \n",
      " 6   Physical Activity Level  374 non-null    int64  \n",
      " 7   Stress Level             374 non-null    int64  \n",
      " 8   BMI Category             374 non-null    object \n",
      " 9   Blood Pressure           374 non-null    object \n",
      " 10  Heart Rate               374 non-null    int64  \n",
      " 11  Daily Steps              374 non-null    int64  \n",
      " 12  Sleep Disorder           155 non-null    object \n",
      "dtypes: float64(1), int64(7), object(5)\n",
      "memory usage: 38.1+ KB\n"
     ]
    }
   ],
   "source": [
    "# coloumn names and data types\n",
    "health.info()"
   ]
  },
  {
   "cell_type": "code",
   "execution_count": 71,
   "id": "35742adb",
   "metadata": {},
   "outputs": [
    {
     "ename": "KeyError",
     "evalue": "'Sleep Disorder'",
     "output_type": "error",
     "traceback": [
      "\u001b[31m---------------------------------------------------------------------------\u001b[39m",
      "\u001b[31mKeyError\u001b[39m                                  Traceback (most recent call last)",
      "\u001b[36mFile \u001b[39m\u001b[32m/Library/Frameworks/Python.framework/Versions/3.13/lib/python3.13/site-packages/pandas/core/indexes/base.py:3805\u001b[39m, in \u001b[36mIndex.get_loc\u001b[39m\u001b[34m(self, key)\u001b[39m\n\u001b[32m   3804\u001b[39m \u001b[38;5;28;01mtry\u001b[39;00m:\n\u001b[32m-> \u001b[39m\u001b[32m3805\u001b[39m     \u001b[38;5;28;01mreturn\u001b[39;00m \u001b[38;5;28;43mself\u001b[39;49m\u001b[43m.\u001b[49m\u001b[43m_engine\u001b[49m\u001b[43m.\u001b[49m\u001b[43mget_loc\u001b[49m\u001b[43m(\u001b[49m\u001b[43mcasted_key\u001b[49m\u001b[43m)\u001b[49m\n\u001b[32m   3806\u001b[39m \u001b[38;5;28;01mexcept\u001b[39;00m \u001b[38;5;167;01mKeyError\u001b[39;00m \u001b[38;5;28;01mas\u001b[39;00m err:\n",
      "\u001b[36mFile \u001b[39m\u001b[32mindex.pyx:167\u001b[39m, in \u001b[36mpandas._libs.index.IndexEngine.get_loc\u001b[39m\u001b[34m()\u001b[39m\n",
      "\u001b[36mFile \u001b[39m\u001b[32mindex.pyx:196\u001b[39m, in \u001b[36mpandas._libs.index.IndexEngine.get_loc\u001b[39m\u001b[34m()\u001b[39m\n",
      "\u001b[36mFile \u001b[39m\u001b[32mpandas/_libs/hashtable_class_helper.pxi:7081\u001b[39m, in \u001b[36mpandas._libs.hashtable.PyObjectHashTable.get_item\u001b[39m\u001b[34m()\u001b[39m\n",
      "\u001b[36mFile \u001b[39m\u001b[32mpandas/_libs/hashtable_class_helper.pxi:7089\u001b[39m, in \u001b[36mpandas._libs.hashtable.PyObjectHashTable.get_item\u001b[39m\u001b[34m()\u001b[39m\n",
      "\u001b[31mKeyError\u001b[39m: 'Sleep Disorder'",
      "\nThe above exception was the direct cause of the following exception:\n",
      "\u001b[31mKeyError\u001b[39m                                  Traceback (most recent call last)",
      "\u001b[36mCell\u001b[39m\u001b[36m \u001b[39m\u001b[32mIn[71]\u001b[39m\u001b[32m, line 2\u001b[39m\n\u001b[32m      1\u001b[39m \u001b[38;5;66;03m# use wrapper function to clean data\u001b[39;00m\n\u001b[32m----> \u001b[39m\u001b[32m2\u001b[39m health = \u001b[43mcl\u001b[49m\u001b[43m.\u001b[49m\u001b[43mclean_data\u001b[49m\u001b[43m(\u001b[49m\u001b[43mhealth\u001b[49m\u001b[43m)\u001b[49m\n\u001b[32m      3\u001b[39m \u001b[38;5;66;03m# fill NaN values with \"None\"\u001b[39;00m\n\u001b[32m      4\u001b[39m \u001b[38;5;66;03m# turn columns into lowercase\u001b[39;00m\n\u001b[32m      5\u001b[39m \u001b[38;5;66;03m# replace \" \" with \"_\" in column nanes\u001b[39;00m\n\u001b[32m      6\u001b[39m \u001b[38;5;66;03m# rename columns\u001b[39;00m\n\u001b[32m      7\u001b[39m \u001b[38;5;66;03m# remove duplicates\u001b[39;00m\n\u001b[32m      8\u001b[39m health.head()\n",
      "\u001b[36mFile \u001b[39m\u001b[32m~/Desktop/Ironhack/sleep-heath-analysis/cleaning.py:37\u001b[39m, in \u001b[36mclean_data\u001b[39m\u001b[34m(df)\u001b[39m\n\u001b[32m     36\u001b[39m \u001b[38;5;28;01mdef\u001b[39;00m\u001b[38;5;250m \u001b[39m\u001b[34mclean_data\u001b[39m(df):\n\u001b[32m---> \u001b[39m\u001b[32m37\u001b[39m     df = \u001b[43mclean_sleep_disorder\u001b[49m\u001b[43m(\u001b[49m\u001b[43mdf\u001b[49m\u001b[43m)\u001b[49m\n\u001b[32m     38\u001b[39m     df = lowercase_columns(df)\n\u001b[32m     39\u001b[39m     df = add_underscore(df)\n",
      "\u001b[36mFile \u001b[39m\u001b[32m~/Desktop/Ironhack/sleep-heath-analysis/cleaning.py:3\u001b[39m, in \u001b[36mclean_sleep_disorder\u001b[39m\u001b[34m(df)\u001b[39m\n\u001b[32m      1\u001b[39m \u001b[38;5;28;01mdef\u001b[39;00m\u001b[38;5;250m \u001b[39m\u001b[34mclean_sleep_disorder\u001b[39m(df):\n\u001b[32m      2\u001b[39m     \u001b[38;5;66;03m# fills NaN values with \"None\"\u001b[39;00m\n\u001b[32m----> \u001b[39m\u001b[32m3\u001b[39m     df[\u001b[33m\"\u001b[39m\u001b[33mSleep Disorder\u001b[39m\u001b[33m\"\u001b[39m] = \u001b[43mdf\u001b[49m\u001b[43m[\u001b[49m\u001b[33;43m\"\u001b[39;49m\u001b[33;43mSleep Disorder\u001b[39;49m\u001b[33;43m\"\u001b[39;49m\u001b[43m]\u001b[49m.fillna(\u001b[33m\"\u001b[39m\u001b[33mNone\u001b[39m\u001b[33m\"\u001b[39m)\n\u001b[32m      4\u001b[39m     \u001b[38;5;28;01mreturn\u001b[39;00m df\n",
      "\u001b[36mFile \u001b[39m\u001b[32m/Library/Frameworks/Python.framework/Versions/3.13/lib/python3.13/site-packages/pandas/core/frame.py:4102\u001b[39m, in \u001b[36mDataFrame.__getitem__\u001b[39m\u001b[34m(self, key)\u001b[39m\n\u001b[32m   4100\u001b[39m \u001b[38;5;28;01mif\u001b[39;00m \u001b[38;5;28mself\u001b[39m.columns.nlevels > \u001b[32m1\u001b[39m:\n\u001b[32m   4101\u001b[39m     \u001b[38;5;28;01mreturn\u001b[39;00m \u001b[38;5;28mself\u001b[39m._getitem_multilevel(key)\n\u001b[32m-> \u001b[39m\u001b[32m4102\u001b[39m indexer = \u001b[38;5;28;43mself\u001b[39;49m\u001b[43m.\u001b[49m\u001b[43mcolumns\u001b[49m\u001b[43m.\u001b[49m\u001b[43mget_loc\u001b[49m\u001b[43m(\u001b[49m\u001b[43mkey\u001b[49m\u001b[43m)\u001b[49m\n\u001b[32m   4103\u001b[39m \u001b[38;5;28;01mif\u001b[39;00m is_integer(indexer):\n\u001b[32m   4104\u001b[39m     indexer = [indexer]\n",
      "\u001b[36mFile \u001b[39m\u001b[32m/Library/Frameworks/Python.framework/Versions/3.13/lib/python3.13/site-packages/pandas/core/indexes/base.py:3812\u001b[39m, in \u001b[36mIndex.get_loc\u001b[39m\u001b[34m(self, key)\u001b[39m\n\u001b[32m   3807\u001b[39m     \u001b[38;5;28;01mif\u001b[39;00m \u001b[38;5;28misinstance\u001b[39m(casted_key, \u001b[38;5;28mslice\u001b[39m) \u001b[38;5;129;01mor\u001b[39;00m (\n\u001b[32m   3808\u001b[39m         \u001b[38;5;28misinstance\u001b[39m(casted_key, abc.Iterable)\n\u001b[32m   3809\u001b[39m         \u001b[38;5;129;01mand\u001b[39;00m \u001b[38;5;28many\u001b[39m(\u001b[38;5;28misinstance\u001b[39m(x, \u001b[38;5;28mslice\u001b[39m) \u001b[38;5;28;01mfor\u001b[39;00m x \u001b[38;5;129;01min\u001b[39;00m casted_key)\n\u001b[32m   3810\u001b[39m     ):\n\u001b[32m   3811\u001b[39m         \u001b[38;5;28;01mraise\u001b[39;00m InvalidIndexError(key)\n\u001b[32m-> \u001b[39m\u001b[32m3812\u001b[39m     \u001b[38;5;28;01mraise\u001b[39;00m \u001b[38;5;167;01mKeyError\u001b[39;00m(key) \u001b[38;5;28;01mfrom\u001b[39;00m\u001b[38;5;250m \u001b[39m\u001b[34;01merr\u001b[39;00m\n\u001b[32m   3813\u001b[39m \u001b[38;5;28;01mexcept\u001b[39;00m \u001b[38;5;167;01mTypeError\u001b[39;00m:\n\u001b[32m   3814\u001b[39m     \u001b[38;5;66;03m# If we have a listlike key, _check_indexing_error will raise\u001b[39;00m\n\u001b[32m   3815\u001b[39m     \u001b[38;5;66;03m#  InvalidIndexError. Otherwise we fall through and re-raise\u001b[39;00m\n\u001b[32m   3816\u001b[39m     \u001b[38;5;66;03m#  the TypeError.\u001b[39;00m\n\u001b[32m   3817\u001b[39m     \u001b[38;5;28mself\u001b[39m._check_indexing_error(key)\n",
      "\u001b[31mKeyError\u001b[39m: 'Sleep Disorder'"
     ]
    }
   ],
   "source": [
    "# use wrapper function to clean data\n",
    "health = cl.clean_data(health)\n",
    "# fill NaN values with \"None\"\n",
    "# turn columns into lowercase\n",
    "# replace \" \" with \"_\" in column nanes\n",
    "# rename columns\n",
    "# remove duplicates\n",
    "health.head()"
   ]
  },
  {
   "cell_type": "markdown",
   "id": "29f00499",
   "metadata": {},
   "source": [
    "# EDA"
   ]
  },
  {
   "cell_type": "markdown",
   "id": "68e22994",
   "metadata": {},
   "source": [
    "# Sleep and activity"
   ]
  },
  {
   "cell_type": "markdown",
   "id": "6a74baac",
   "metadata": {},
   "source": [
    "- H0: There is no relationship between sleep duration and physical fitness duration.\n",
    "- H1: There is a statistically significant relationship between these variables."
   ]
  },
  {
   "cell_type": "code",
   "execution_count": 40,
   "id": "752493b9",
   "metadata": {},
   "outputs": [
    {
     "data": {
      "text/plain": [
       "Text(0, 0.5, 'Sleep Hours per Night')"
      ]
     },
     "execution_count": 40,
     "metadata": {},
     "output_type": "execute_result"
    },
    {
     "data": {
      "image/png": "[encoded data removed]",
      "text/plain": [
       "<Figure size 640x480 with 1 Axes>"
      ]
     },
     "metadata": {},
     "output_type": "display_data"
    }
   ],
   "source": [
    "sns.regplot(\n",
    "    data=health,\n",
    "    x=\"activity_min_per_day\",\n",
    "    y=\"sleep_hours\",\n",
    "    scatter_kws={'color': \"#2b4efe\", 'alpha': 0.6},\n",
    "    line_kws={'color': \"#d91735\", 'linewidth': 2.5}\n",
    ")\n",
    "plt.xlabel(\"Minutes of Activity per Day\")\n",
    "plt.ylabel(\"Sleep Hours per Night\")"
   ]
  },
  {
   "cell_type": "markdown",
   "id": "b48a5179",
   "metadata": {},
   "source": [
    "**Observations:** \n",
    "Generally, more physical activity associates with more sleep. But the clusters suggest the data might be somewhat artificial or grouped (maybe survey categories?)."
   ]
  },
  {
   "cell_type": "code",
   "execution_count": 41,
   "id": "78dfbc40",
   "metadata": {},
   "outputs": [
    {
     "name": "stdout",
     "output_type": "stream",
     "text": [
      "Correlation, Activity & Sleep:  0.21236031472575906\n",
      "P-value, Activity & Sleep:  3.4666184358492465e-05\n",
      "r-squared:  0.04509690327042344\n",
      "r-squared percent: 4.51%\n"
     ]
    }
   ],
   "source": [
    "from scipy.stats import pearsonr\n",
    "correlation, p_value = pearsonr(health['activity_min_per_day'], health['sleep_hours'])\n",
    "r_squared = correlation ** 2\n",
    "r_squared_percent = r_squared * 100\n",
    "print(\"Correlation, Activity & Sleep: \", correlation)\n",
    "print(\"P-value, Activity & Sleep: \", p_value)\n",
    "print(\"r-squared: \", r_squared)\n",
    "print(f\"r-squared percent: {r_squared_percent:.2f}%\")"
   ]
  },
  {
   "cell_type": "markdown",
   "id": "8e49adee",
   "metadata": {},
   "source": [
    "**Observations:** A correlation of 0.21 indicates a weak positive relationship between daily activity minutes and sleep duration. The r-squared value of ~0.04 means only about 4% of the variance in sleep hours is shared with activity levels, leaving the vast majority (96%) explained by other factors. Although the p-value (<0.001) shows the relationship is statistically significant, the effect size is small. \n",
    "\n",
    "This weak association suggests that sleep duration is influenced far more by other variables, and further exploration is warranted to identify those drivers."
   ]
  },
  {
   "cell_type": "markdown",
   "id": "32a11a02",
   "metadata": {},
   "source": [
    "## Correlation analysis: sleep duration\n",
    "\n",
    "We'll run a correlation analysis to see which variables most impact sleep duration."
   ]
  },
  {
   "cell_type": "code",
   "execution_count": 42,
   "id": "d638f950",
   "metadata": {},
   "outputs": [
    {
     "name": "stdout",
     "output_type": "stream",
     "text": [
      "sleep_hours             1.000000\n",
      "sleep_quality           0.883213\n",
      "age                     0.344709\n",
      "activity_min_per_day    0.212360\n",
      "daily_steps            -0.039533\n",
      "rhr                    -0.516455\n",
      "stress_level           -0.811023\n",
      "Name: sleep_hours, dtype: float64\n"
     ]
    }
   ],
   "source": [
    "# Pick predictors and outcome\n",
    "features = [\"age\", \"sleep_quality\", \"activity_min_per_day\", \"stress_level\", \"bmi_category\", \n",
    "            \"blood_pressure\", \"rhr\", \"daily_steps\", \"sleep_disorder\"]\n",
    "outcome = \"sleep_hours\"\n",
    "\n",
    "# Calculate correlations with outcome\n",
    "correlations = health[features + [outcome]].corr(numeric_only=True)[outcome].sort_values(ascending=False)\n",
    "\n",
    "print(correlations)"
   ]
  },
  {
   "cell_type": "markdown",
   "id": "76abdfe4",
   "metadata": {},
   "source": [
    "**Observations:** Stress level has an almost perfect negative correlation (-0.8) with sleep hours. Let's explore this further."
   ]
  },
  {
   "cell_type": "markdown",
   "id": "8159d611",
   "metadata": {},
   "source": [
    "### Stress and sleep"
   ]
  },
  {
   "cell_type": "code",
   "execution_count": 43,
   "id": "82f6242e",
   "metadata": {},
   "outputs": [
    {
     "data": {
      "text/plain": [
       "Text(0, 0.5, 'Sleep Hours per Night')"
      ]
     },
     "execution_count": 43,
     "metadata": {},
     "output_type": "execute_result"
    },
    {
     "data": {
      "image/png": "[encoded data removed]",
      "text/plain": [
       "<Figure size 640x480 with 1 Axes>"
      ]
     },
     "metadata": {},
     "output_type": "display_data"
    }
   ],
   "source": [
    "sns.regplot(\n",
    "    data=health,\n",
    "    x=\"stress_level\",\n",
    "    y=\"sleep_hours\",\n",
    "    scatter_kws={'color': \"#2b4efe\", 'alpha': 0.6},\n",
    "    line_kws={'color': \"#d91735\", 'linewidth': 2.5}\n",
    ")\n",
    "plt.xlabel(\"Stress Level\")\n",
    "plt.ylabel(\"Sleep Hours per Night\")"
   ]
  },
  {
   "cell_type": "markdown",
   "id": "bf8883cd",
   "metadata": {},
   "source": [
    "**Observations:** The regplot confirms the correlation analysis, showing a strong and direct negative trend between sleep and stress. "
   ]
  },
  {
   "cell_type": "code",
   "execution_count": 44,
   "id": "f7fbceb6",
   "metadata": {},
   "outputs": [
    {
     "name": "stdout",
     "output_type": "stream",
     "text": [
      "Correlation, Stress & Sleep:  -0.8110230278940431\n",
      "P-value, Stress & Sleep:  1.2378076181537577e-88\n",
      "r-squared:  0.6577583517744219\n",
      "r-squared percent: 65.78%\n"
     ]
    }
   ],
   "source": [
    "from scipy.stats import pearsonr\n",
    "correlation, p_value = pearsonr(health['stress_level'], health['sleep_hours'])\n",
    "r_squared = correlation ** 2\n",
    "r_squared_percent = r_squared * 100\n",
    "print(\"Correlation, Stress & Sleep: \", correlation)\n",
    "print(\"P-value, Stress & Sleep: \", p_value)\n",
    "print(\"r-squared: \", r_squared)\n",
    "print(f\"r-squared percent: {r_squared_percent:.2f}%\")"
   ]
  },
  {
   "cell_type": "markdown",
   "id": "c3b144d9",
   "metadata": {},
   "source": [
    "**Observations:** Stress shares ~66% of the variance with sleep hours. The low p-value (<0.05) gives confidence that this high variation is not due to an error or chance.  \n",
    "\n",
    "In short, high stress is strongly associated with short sleep duration. But what impacts stress?"
   ]
  },
  {
   "cell_type": "markdown",
   "id": "5b04d7cb",
   "metadata": {},
   "source": [
    "### RHR and stress"
   ]
  },
  {
   "cell_type": "code",
   "execution_count": 45,
   "id": "ac0ecd0c",
   "metadata": {},
   "outputs": [
    {
     "data": {
      "text/plain": [
       "Text(0, 0.5, 'Stress Level')"
      ]
     },
     "execution_count": 45,
     "metadata": {},
     "output_type": "execute_result"
    },
    {
     "data": {
      "image/png": "[encoded data removed]",
      "text/plain": [
       "<Figure size 640x480 with 1 Axes>"
      ]
     },
     "metadata": {},
     "output_type": "display_data"
    }
   ],
   "source": [
    "sns.regplot(\n",
    "    data=health,\n",
    "    x=\"rhr\",\n",
    "    y=\"stress_level\",\n",
    "    scatter_kws={'color': \"#2b4efe\", 'alpha': 0.6},\n",
    "    line_kws={'color': \"#d91735\", 'linewidth': 2.5}\n",
    ")\n",
    "plt.xlabel(\"RHR\")\n",
    "plt.ylabel(\"Stress Level\")"
   ]
  },
  {
   "cell_type": "markdown",
   "id": "b01878d1",
   "metadata": {},
   "source": [
    "**Observation:** The cluster at the bottom (where the CI is tightest) indicates that lower RHR is associated with lower stress level. "
   ]
  },
  {
   "cell_type": "code",
   "execution_count": 46,
   "id": "8c0f7f96",
   "metadata": {},
   "outputs": [
    {
     "name": "stdout",
     "output_type": "stream",
     "text": [
      "Correlation, Stress & Resting Heart Rate:  0.6700264629986893\n",
      "P-value, Stress & Resting Heart Rate:  4.492926517161453e-50\n",
      "r-squared:  0.44893546111853394\n",
      "r-squared percent: 44.89%\n"
     ]
    }
   ],
   "source": [
    "from scipy.stats import pearsonr\n",
    "correlation, p_value = pearsonr(health['stress_level'], health['rhr'])\n",
    "r_squared = correlation ** 2\n",
    "r_squared_percent = r_squared * 100\n",
    "print(\"Correlation, Stress & Resting Heart Rate: \", correlation)\n",
    "print(\"P-value, Stress & Resting Heart Rate: \", p_value)\n",
    "print(\"r-squared: \", r_squared)\n",
    "print(f\"r-squared percent: {r_squared_percent:.2f}%\")"
   ]
  },
  {
   "cell_type": "markdown",
   "id": "1e82a83d",
   "metadata": {},
   "source": [
    "**Observation:** About 45% of the variance in stress and RHR is shared, indicating a strong positive association. with a high correlation factor 0.66 showing a moderate-to-strong positive relationship between high stress and high RHR.\n",
    "\n",
    "Having higher (or lower) stress is associated with having higher (or lower) RHR."
   ]
  },
  {
   "cell_type": "markdown",
   "id": "446d3b23",
   "metadata": {},
   "source": [
    "## RHR and sleep quality"
   ]
  },
  {
   "cell_type": "code",
   "execution_count": 47,
   "id": "1432d1a5",
   "metadata": {},
   "outputs": [
    {
     "data": {
      "text/plain": [
       "Text(0, 0.5, 'Sleep Quality')"
      ]
     },
     "execution_count": 47,
     "metadata": {},
     "output_type": "execute_result"
    },
    {
     "data": {
      "image/png": "[encoded data removed]",
      "text/plain": [
       "<Figure size 640x480 with 1 Axes>"
      ]
     },
     "metadata": {},
     "output_type": "display_data"
    }
   ],
   "source": [
    "sns.regplot(\n",
    "    data=health,\n",
    "    x=\"rhr\",\n",
    "    y=\"sleep_quality\",\n",
    "    scatter_kws={'color': \"#2b4efe\", 'alpha': 0.6},\n",
    "    line_kws={'color': \"#d91735\", 'linewidth': 2.5}\n",
    ")\n",
    "plt.xlabel(\"RHR\")\n",
    "plt.ylabel(\"Sleep Quality\")"
   ]
  },
  {
   "cell_type": "code",
   "execution_count": 48,
   "id": "9a55ecf7",
   "metadata": {},
   "outputs": [
    {
     "name": "stdout",
     "output_type": "stream",
     "text": [
      "Correlation, Sleep Quality & Resting Heart Rate:  -0.6598647331480081\n",
      "P-value, Sleep Quality & Resting Heart Rate:  4.1319986233668486e-48\n",
      "r-squared:  0.43542146605249193\n",
      "r-squared percent: 43.54%\n"
     ]
    }
   ],
   "source": [
    "from scipy.stats import pearsonr\n",
    "correlation, p_value = pearsonr(health['sleep_quality'], health['rhr'])\n",
    "r_squared = correlation ** 2\n",
    "r_squared_percent = r_squared * 100\n",
    "print(\"Correlation, Sleep Quality & Resting Heart Rate: \", correlation)\n",
    "print(\"P-value, Sleep Quality & Resting Heart Rate: \", p_value)\n",
    "print(\"r-squared: \", r_squared)\n",
    "print(f\"r-squared percent: {r_squared_percent:.2f}%\")"
   ]
  },
  {
   "cell_type": "markdown",
   "id": "c8443751",
   "metadata": {},
   "source": [
    "**Observation:** About 44% of the variability in sleep quality is associated with variability in RHR, with a strong (-0.66) negative correlation. This suggests a statistically significant relationship between higher resting heart rate and lower sleep quality.\n",
    "\n",
    "**Remember:** our correlation analysis showed an almost 1:1 relationship between sleep quality and sleep duration. "
   ]
  },
  {
   "cell_type": "markdown",
   "id": "031f411c",
   "metadata": {},
   "source": [
    "# BMI categories and sleep"
   ]
  },
  {
   "cell_type": "markdown",
   "id": "e765f1b7",
   "metadata": {},
   "source": [
    "### Sleep Duration Overview\n",
    "The dataset shows participants averaged 7.2 hours of sleep per night (median: 7.0).\n",
    "Let's examine how sleep duration varies across BMI categories."
   ]
  },
  {
   "cell_type": "code",
   "execution_count": 49,
   "id": "b997f156",
   "metadata": {},
   "outputs": [
    {
     "name": "stdout",
     "output_type": "stream",
     "text": [
      "Avg. Sleep Hours:  7.13\n",
      "Median Sleep Hours:  7.2\n"
     ]
    },
    {
     "data": {
      "text/plain": [
       "Text(0, 0.5, 'Sleep Hours')"
      ]
     },
     "execution_count": 49,
     "metadata": {},
     "output_type": "execute_result"
    },
    {
     "data": {
      "image/png": "[encoded data removed]",
      "text/plain": [
       "<Figure size 640x480 with 1 Axes>"
      ]
     },
     "metadata": {},
     "output_type": "display_data"
    }
   ],
   "source": [
    "print(\"Avg. Sleep Hours: \", str(health.sleep_hours.mean().round(2)))\n",
    "print(\"Median Sleep Hours: \", str(health.sleep_hours.median().round(2)))\n",
    "\n",
    "sns.boxplot(\n",
    "    data=health,\n",
    "    x=\"bmi_category\",\n",
    "    y=\"sleep_hours\",\n",
    "    hue=\"bmi_category\",\n",
    "    palette=[\"#fffc5f\", \"#cf6bf7\", \"#ff604e\"]\n",
    ")\n",
    "plt.xlabel(\"BMI Category\")\n",
    "plt.ylabel(\"Sleep Hours\")"
   ]
  },
  {
   "cell_type": "code",
   "execution_count": 50,
   "id": "c1cb5a8e",
   "metadata": {},
   "outputs": [
    {
     "name": "stdout",
     "output_type": "stream",
     "text": [
      "Results:  F_onewayResult(statistic=np.float64(31.001718690897327), pvalue=np.float64(3.545813768064132e-13))\n"
     ]
    }
   ],
   "source": [
    "df_normal = health[health[\"bmi_category\"]==\"Normal\"][\"sleep_hours\"]\n",
    "df_overweight = health[health[\"bmi_category\"]==\"Overweight\"][\"sleep_hours\"]\n",
    "df_obease = health[health[\"bmi_category\"]==\"Obese\"][\"sleep_hours\"]\n",
    "\n",
    "# H0: BMI does not impact sleep hours\n",
    "# H1: BMI does impact sleep hours\n",
    "\n",
    "#Significance level: 5%\n",
    "alpha = 0.05\n",
    "\n",
    "results = st.f_oneway(df_normal, df_overweight, df_obease)\n",
    "print(\"Results: \", str(results))\n"
   ]
  },
  {
   "cell_type": "markdown",
   "id": "8f6b8f82",
   "metadata": {},
   "source": [
    "**Observations:** The boxplot showed variation in sleep hours between BMI groups—generally lower for overweight and obese people. The boxplot was chosen in order to handle outliers. A simple bar chart showed much less variation between groups due to these outliers distorting the mean. To confirm the hypothesis that BMI impacts sleep, I ran an ANOVA test. A large f-statistic (31) and extremely small p-value (<0.05) indicates that we can reject the null hypothesis. "
   ]
  },
  {
   "cell_type": "markdown",
   "id": "974e0e64",
   "metadata": {},
   "source": [
    "# Blood Pressure and Stress"
   ]
  },
  {
   "cell_type": "code",
   "execution_count": 51,
   "id": "a92dd886",
   "metadata": {},
   "outputs": [],
   "source": [
    "# apply function to create columns for systolic and diastolic\n",
    "health = fn.create_bp_columns(health)"
   ]
  },
  {
   "cell_type": "code",
   "execution_count": 52,
   "id": "33715c43",
   "metadata": {},
   "outputs": [
    {
     "data": {
      "text/plain": [
       "bp_category\n",
       "High (Stage 1)    232\n",
       "High (Stage 2)    100\n",
       "Normal             41\n",
       "Elevated            1\n",
       "Name: count, dtype: int64"
      ]
     },
     "execution_count": 52,
     "metadata": {},
     "output_type": "execute_result"
    }
   ],
   "source": [
    "# apply function to create rows for blood pressure categories \n",
    "health[\"bp_category\"] = health.apply(fn.bp_category, axis=1)\n",
    "\n",
    "health[\"bp_category\"].value_counts()"
   ]
  },
  {
   "cell_type": "code",
   "execution_count": 53,
   "id": "bef12291",
   "metadata": {},
   "outputs": [],
   "source": [
    "health_filtered = health[health['bp_category'] != 'Elevated']"
   ]
  },
  {
   "cell_type": "code",
   "execution_count": 54,
   "id": "b1b6a605",
   "metadata": {},
   "outputs": [
    {
     "data": {
      "text/plain": [
       "Text(0, 0.5, 'Stress level')"
      ]
     },
     "execution_count": 54,
     "metadata": {},
     "output_type": "execute_result"
    },
    {
     "data": {
      "image/png": "[encoded data removed]",
      "text/plain": [
       "<Figure size 640x480 with 1 Axes>"
      ]
     },
     "metadata": {},
     "output_type": "display_data"
    }
   ],
   "source": [
    "sns.barplot(\n",
    "    data=health_filtered,\n",
    "    x=\"bp_category\",\n",
    "    y=\"stress_level\",\n",
    "    hue=\"bp_category\",\n",
    "    palette=[\"#B32103\", \"#ca561c\", \"#33d0d3\"]\n",
    ")\n",
    "plt.xlabel(\"BP Category\")\n",
    "plt.ylabel(\"Stress level\")\n",
    "\n",
    "\n",
    "# elevated n=1, not statistically significant"
   ]
  },
  {
   "cell_type": "code",
   "execution_count": 55,
   "id": "7e543e70",
   "metadata": {},
   "outputs": [
    {
     "name": "stdout",
     "output_type": "stream",
     "text": [
      "Results:  F_onewayResult(statistic=np.float64(16.07468925983478), pvalue=np.float64(2.0213876326838604e-07))\n"
     ]
    }
   ],
   "source": [
    "bp_normal = health[health[\"bp_category\"]==\"Normal\"][\"stress_level\"]\n",
    "bp_high_1 = health[health[\"bp_category\"]==\"High (Stage 1)\"][\"stress_level\"]\n",
    "bp_high_2 = health[health[\"bp_category\"]==\"High (Stage 2)\"][\"stress_level\"]\n",
    "\n",
    "# H0: High stress is not correlated to high blood pressure\n",
    "# H1: High stress is correlated to high blood pressure\n",
    "\n",
    "#Significance level: 5%\n",
    "alpha = 0.05\n",
    "\n",
    "results = st.f_oneway(bp_normal, bp_high_1, bp_high_2)\n",
    "print(\"Results: \", str(results))\n"
   ]
  },
  {
   "cell_type": "markdown",
   "id": "99799333",
   "metadata": {},
   "source": [
    "**Observations:** Stress and high blood pressure have a statistically significant relationship.\n",
    "\n",
    "High blood pressure, or hypertension, significantly increases the risk of cardiovascular diseases such as coronary artery disease, heart failure, stroke, and kidney disease by straining the heart and damaging blood vessels over time. \n",
    "\n",
    "We'll explore this in more detail later."
   ]
  },
  {
   "cell_type": "markdown",
   "id": "2916f5d0",
   "metadata": {},
   "source": [
    "# Machine Learning "
   ]
  },
  {
   "cell_type": "code",
   "execution_count": 56,
   "id": "d34e99ee",
   "metadata": {},
   "outputs": [],
   "source": [
    "# reshape the data from 1D to 2D\n",
    "X = health[['stress_level']]  \n",
    "y = health['sleep_hours']"
   ]
  },
  {
   "cell_type": "code",
   "execution_count": 57,
   "id": "58f25f58",
   "metadata": {},
   "outputs": [],
   "source": [
    "# Train, Test, Split\n",
    "X_train, X_test, y_train, y_test = train_test_split(X, y, test_size=.2)"
   ]
  },
  {
   "cell_type": "code",
   "execution_count": 58,
   "id": "4cb01b26",
   "metadata": {},
   "outputs": [
    {
     "name": "stdout",
     "output_type": "stream",
     "text": [
      "predicted values: [7.6231072  7.97972363 6.90987433 7.26649077 6.5532579  6.5532579\n",
      " 7.97972363 6.19664147 6.19664147 7.26649077 6.19664147 7.6231072\n",
      " 6.5532579  6.19664147 7.26649077 7.26649077 7.97972363 7.97972363\n",
      " 6.19664147 7.97972363 7.6231072  7.6231072  7.97972363 7.6231072\n",
      " 7.26649077 6.19664147 7.26649077 7.97972363 7.26649077 7.97972363\n",
      " 6.19664147 6.5532579  7.26649077 6.5532579  6.90987433 7.26649077\n",
      " 6.19664147 7.97972363 6.90987433 6.5532579  6.5532579  7.97972363\n",
      " 6.5532579  7.6231072  7.6231072  7.97972363 7.97972363 6.19664147\n",
      " 6.5532579  7.6231072  7.6231072  6.19664147 7.26649077 6.90987433\n",
      " 6.19664147 7.97972363 6.19664147 6.19664147 6.90987433 6.19664147\n",
      " 7.97972363 7.97972363 7.97972363 7.97972363 7.97972363 7.26649077\n",
      " 7.6231072  6.19664147 7.6231072  6.5532579  6.19664147 7.6231072\n",
      " 7.26649077 7.97972363 6.19664147]\n",
      "intercept: 9.049572917132508 coefficient: [-0.35661643]\n",
      "R²: 0.7275899681942319\n",
      "Mean Squared Error: 0.20501022066525973\n",
      "Root Mean Squared Error: 0.452780543602814\n",
      "Mean Absolute Error: 0.34866073371793166\n"
     ]
    }
   ],
   "source": [
    "# Create the Linear Regression estimator\n",
    "lm = LinearRegression()\n",
    "\n",
    "# Perform the fitting\n",
    "lm.fit(X_train, y_train)\n",
    "\n",
    "# Predictions\n",
    "y_pred = lm.predict(X_test)\n",
    "predictions = lm.predict(X_test)\n",
    "print(\"predicted values:\", predictions)\n",
    "\n",
    "# Print coefs\n",
    "print(\"intercept:\", lm.intercept_, \"coefficient:\", lm.coef_)\n",
    "\n",
    "# R² score\n",
    "r2 = lm.score(X_test, y_test)\n",
    "\n",
    "# Errors\n",
    "mse = mean_squared_error(y_test, y_pred)\n",
    "rmse = mse**0.5\n",
    "mae = mean_absolute_error(y_test, y_pred)\n",
    "\n",
    "print(\"R²:\", r2)\n",
    "print(\"Mean Squared Error:\", mse)\n",
    "print(\"Root Mean Squared Error:\", rmse)\n",
    "print(\"Mean Absolute Error:\", mae)"
   ]
  },
  {
   "cell_type": "markdown",
   "id": "0b8790d5",
   "metadata": {},
   "source": [
    "**Observations:** \n",
    "- Intercept: 9.2 hours (theoretical sleep with zero stress)\n",
    "- Coefficient: -0.36. For every 1-point increase in stress you lose .36 hours (22 minutes) of sleep.\n",
    "- R-squared: Model explains 73% of variance in unseen data.\n",
    "- RMSE: 0.453 hours / 27 minutes\n",
    "\n",
    "#### Summary: Stress and RHR have a major impact on healthy sleep. By helping people reduce stress, we can help them get a good night's rest, lower their blood pressure, and increase their overall health outcomes."
   ]
  },
  {
   "cell_type": "markdown",
   "id": "06ecec1a",
   "metadata": {},
   "source": [
    "# Connecting an API: Our World In Data"
   ]
  },
  {
   "cell_type": "markdown",
   "id": "4db512bd",
   "metadata": {},
   "source": [
    "#### Cardiovascular diseases (CVD) are the most common causes of death, responsible for a third of all deaths globally, a total of around 18 million annually. \n",
    "\n",
    "#### By lowering risk for CVD through better stress management and sleep hygiene, we can directly impact global longevity. \n",
    "\n",
    "To show this, let's start by looking at cardiovascular death rates globally from https://ourworldindata.org/cardiovascular-diseases"
   ]
  },
  {
   "cell_type": "code",
   "execution_count": 59,
   "id": "82ba3d93",
   "metadata": {},
   "outputs": [],
   "source": [
    "import pandas as pd\n",
    "import requests\n",
    "\n",
    "# Fetch the data from OurWorldInData.org\n",
    "cvd_data = pd.read_csv(\"https://ourworldindata.org/grapher/death-rate-from-cardiovascular-disease-age-standardized-ghe.csv?v=1&csvType=full&useColumnShortNames=true\", storage_options = {'User-Agent': 'Our World In Data data fetch/1.0'})\n",
    "\n",
    "# Fetch the metadata\n",
    "metadata = requests.get(\"https://ourworldindata.org/grapher/death-rate-from-cardiovascular-disease-age-standardized-ghe.metadata.json?v=1&csvType=full&useColumnShortNames=true\").json()"
   ]
  },
  {
   "cell_type": "code",
   "execution_count": 60,
   "id": "a72f1f7b",
   "metadata": {},
   "outputs": [
    {
     "data": {
      "text/html": [
       "<div>\n",
       "<style scoped>\n",
       "    .dataframe tbody tr th:only-of-type {\n",
       "        vertical-align: middle;\n",
       "    }\n",
       "\n",
       "    .dataframe tbody tr th {\n",
       "        vertical-align: top;\n",
       "    }\n",
       "\n",
       "    .dataframe thead th {\n",
       "        text-align: right;\n",
       "    }\n",
       "</style>\n",
       "<table border=\"1\" class=\"dataframe\">\n",
       "  <thead>\n",
       "    <tr style=\"text-align: right;\">\n",
       "      <th></th>\n",
       "      <th>country</th>\n",
       "      <th>code</th>\n",
       "      <th>year</th>\n",
       "      <th>cvd_death_rate</th>\n",
       "    </tr>\n",
       "  </thead>\n",
       "  <tbody>\n",
       "    <tr>\n",
       "      <th>3409</th>\n",
       "      <td>San Marino</td>\n",
       "      <td>SMR</td>\n",
       "      <td>2021</td>\n",
       "      <td>60.133038</td>\n",
       "    </tr>\n",
       "    <tr>\n",
       "      <th>3717</th>\n",
       "      <td>South Korea</td>\n",
       "      <td>KOR</td>\n",
       "      <td>2021</td>\n",
       "      <td>60.415630</td>\n",
       "    </tr>\n",
       "    <tr>\n",
       "      <th>1979</th>\n",
       "      <td>Japan</td>\n",
       "      <td>JPN</td>\n",
       "      <td>2021</td>\n",
       "      <td>69.253530</td>\n",
       "    </tr>\n",
       "    <tr>\n",
       "      <th>1451</th>\n",
       "      <td>France</td>\n",
       "      <td>FRA</td>\n",
       "      <td>2021</td>\n",
       "      <td>70.002360</td>\n",
       "    </tr>\n",
       "    <tr>\n",
       "      <th>1913</th>\n",
       "      <td>Israel</td>\n",
       "      <td>ISR</td>\n",
       "      <td>2021</td>\n",
       "      <td>70.687570</td>\n",
       "    </tr>\n",
       "    <tr>\n",
       "      <th>...</th>\n",
       "      <td>...</td>\n",
       "      <td>...</td>\n",
       "      <td>...</td>\n",
       "      <td>...</td>\n",
       "    </tr>\n",
       "    <tr>\n",
       "      <th>2529</th>\n",
       "      <td>Micronesia (country)</td>\n",
       "      <td>FSM</td>\n",
       "      <td>2021</td>\n",
       "      <td>500.594200</td>\n",
       "    </tr>\n",
       "    <tr>\n",
       "      <th>4289</th>\n",
       "      <td>Vanuatu</td>\n",
       "      <td>VUT</td>\n",
       "      <td>2021</td>\n",
       "      <td>512.030300</td>\n",
       "    </tr>\n",
       "    <tr>\n",
       "      <th>4267</th>\n",
       "      <td>Uzbekistan</td>\n",
       "      <td>UZB</td>\n",
       "      <td>2021</td>\n",
       "      <td>512.862600</td>\n",
       "    </tr>\n",
       "    <tr>\n",
       "      <th>3629</th>\n",
       "      <td>Solomon Islands</td>\n",
       "      <td>SLB</td>\n",
       "      <td>2021</td>\n",
       "      <td>566.071700</td>\n",
       "    </tr>\n",
       "    <tr>\n",
       "      <th>2727</th>\n",
       "      <td>Nauru</td>\n",
       "      <td>NRU</td>\n",
       "      <td>2021</td>\n",
       "      <td>694.261960</td>\n",
       "    </tr>\n",
       "  </tbody>\n",
       "</table>\n",
       "<p>201 rows × 4 columns</p>\n",
       "</div>"
      ],
      "text/plain": [
       "                   country code  year  cvd_death_rate\n",
       "3409            San Marino  SMR  2021       60.133038\n",
       "3717           South Korea  KOR  2021       60.415630\n",
       "1979                 Japan  JPN  2021       69.253530\n",
       "1451                France  FRA  2021       70.002360\n",
       "1913                Israel  ISR  2021       70.687570\n",
       "...                    ...  ...   ...             ...\n",
       "2529  Micronesia (country)  FSM  2021      500.594200\n",
       "4289               Vanuatu  VUT  2021      512.030300\n",
       "4267            Uzbekistan  UZB  2021      512.862600\n",
       "3629       Solomon Islands  SLB  2021      566.071700\n",
       "2727                 Nauru  NRU  2021      694.261960\n",
       "\n",
       "[201 rows x 4 columns]"
      ]
     },
     "execution_count": 60,
     "metadata": {},
     "output_type": "execute_result"
    }
   ],
   "source": [
    "cvd_data = cl.clean_cvd_data(cvd_data) # apply wraper function\n",
    "\n",
    "#view death rates per 100,000 by year 2021 (latest year)\n",
    "cvd_2021 = cvd_data[cvd_data[\"year\"] == 2021].sort_values(by=\"cvd_death_rate\", ascending=True)\n",
    "\n",
    "cvd_2021"
   ]
  },
  {
   "cell_type": "markdown",
   "id": "13fe8cd2",
   "metadata": {},
   "source": [
    "# Webscraping Wikipedia"
   ]
  },
  {
   "cell_type": "markdown",
   "id": "6d5c57c8",
   "metadata": {},
   "source": [
    "#### Now, let's look at a list of countries by life expectancy by scraping Wikipedia. "
   ]
  },
  {
   "cell_type": "code",
   "execution_count": 61,
   "id": "d6d949da",
   "metadata": {},
   "outputs": [],
   "source": [
    "url = 'https://en.wikipedia.org/wiki/List_of_countries_by_life_expectancy'\n",
    "response = requests.get(url, headers={'User-Agent': 'Mozilla/5.0'})\n",
    "tables = pd.read_html(response.content)"
   ]
  },
  {
   "cell_type": "code",
   "execution_count": 62,
   "id": "04d3dfe5",
   "metadata": {},
   "outputs": [],
   "source": [
    "life_exp = tables[1]  # find correct table\n",
    "life_exp = cl.clean_wiki_data(life_exp)  # clean it using # clean_wiki_data wrapper function"
   ]
  },
  {
   "cell_type": "code",
   "execution_count": 63,
   "id": "e28fbd2d",
   "metadata": {},
   "outputs": [
    {
     "data": {
      "text/html": [
       "<div>\n",
       "<style scoped>\n",
       "    .dataframe tbody tr th:only-of-type {\n",
       "        vertical-align: middle;\n",
       "    }\n",
       "\n",
       "    .dataframe tbody tr th {\n",
       "        vertical-align: top;\n",
       "    }\n",
       "\n",
       "    .dataframe thead th {\n",
       "        text-align: right;\n",
       "    }\n",
       "</style>\n",
       "<table border=\"1\" class=\"dataframe\">\n",
       "  <thead>\n",
       "    <tr style=\"text-align: right;\">\n",
       "      <th></th>\n",
       "      <th>country</th>\n",
       "      <th>life_expectancy</th>\n",
       "    </tr>\n",
       "  </thead>\n",
       "  <tbody>\n",
       "    <tr>\n",
       "      <th>0</th>\n",
       "      <td>Hong Kong</td>\n",
       "      <td>85.51</td>\n",
       "    </tr>\n",
       "    <tr>\n",
       "      <th>1</th>\n",
       "      <td>Japan</td>\n",
       "      <td>84.71</td>\n",
       "    </tr>\n",
       "    <tr>\n",
       "      <th>2</th>\n",
       "      <td>South Korea</td>\n",
       "      <td>84.33</td>\n",
       "    </tr>\n",
       "    <tr>\n",
       "      <th>3</th>\n",
       "      <td>French Polynesia</td>\n",
       "      <td>84.07</td>\n",
       "    </tr>\n",
       "    <tr>\n",
       "      <th>4</th>\n",
       "      <td>Andorra</td>\n",
       "      <td>84.04</td>\n",
       "    </tr>\n",
       "    <tr>\n",
       "      <th>...</th>\n",
       "      <td>...</td>\n",
       "      <td>...</td>\n",
       "    </tr>\n",
       "    <tr>\n",
       "      <th>206</th>\n",
       "      <td>South Sudan</td>\n",
       "      <td>57.62</td>\n",
       "    </tr>\n",
       "    <tr>\n",
       "      <th>207</th>\n",
       "      <td>Central African Republic</td>\n",
       "      <td>57.41</td>\n",
       "    </tr>\n",
       "    <tr>\n",
       "      <th>208</th>\n",
       "      <td>Lesotho</td>\n",
       "      <td>57.38</td>\n",
       "    </tr>\n",
       "    <tr>\n",
       "      <th>209</th>\n",
       "      <td>Chad</td>\n",
       "      <td>55.07</td>\n",
       "    </tr>\n",
       "    <tr>\n",
       "      <th>210</th>\n",
       "      <td>Nigeria</td>\n",
       "      <td>54.46</td>\n",
       "    </tr>\n",
       "  </tbody>\n",
       "</table>\n",
       "<p>211 rows × 2 columns</p>\n",
       "</div>"
      ],
      "text/plain": [
       "                      country  life_expectancy\n",
       "0                   Hong Kong            85.51\n",
       "1                       Japan            84.71\n",
       "2                 South Korea            84.33\n",
       "3            French Polynesia            84.07\n",
       "4                     Andorra            84.04\n",
       "..                        ...              ...\n",
       "206               South Sudan            57.62\n",
       "207  Central African Republic            57.41\n",
       "208                   Lesotho            57.38\n",
       "209                      Chad            55.07\n",
       "210                   Nigeria            54.46\n",
       "\n",
       "[211 rows x 2 columns]"
      ]
     },
     "execution_count": 63,
     "metadata": {},
     "output_type": "execute_result"
    }
   ],
   "source": [
    "life_exp = life_exp.sort_values(by=\"life_expectancy\", ascending=False)\n",
    "life_exp"
   ]
  },
  {
   "cell_type": "markdown",
   "id": "9f044e24",
   "metadata": {},
   "source": [
    "We can see a few similar countries! Let's investigate further. We'll start by merging these tables by country. "
   ]
  },
  {
   "cell_type": "markdown",
   "id": "c4f65d15",
   "metadata": {},
   "source": [
    "## Merge CVD data and life expectancy data"
   ]
  },
  {
   "cell_type": "code",
   "execution_count": 64,
   "id": "57b5644c",
   "metadata": {},
   "outputs": [
    {
     "data": {
      "text/html": [
       "<div>\n",
       "<style scoped>\n",
       "    .dataframe tbody tr th:only-of-type {\n",
       "        vertical-align: middle;\n",
       "    }\n",
       "\n",
       "    .dataframe tbody tr th {\n",
       "        vertical-align: top;\n",
       "    }\n",
       "\n",
       "    .dataframe thead th {\n",
       "        text-align: right;\n",
       "    }\n",
       "</style>\n",
       "<table border=\"1\" class=\"dataframe\">\n",
       "  <thead>\n",
       "    <tr style=\"text-align: right;\">\n",
       "      <th></th>\n",
       "      <th>country</th>\n",
       "      <th>code</th>\n",
       "      <th>year</th>\n",
       "      <th>cvd_death_rate</th>\n",
       "      <th>life_expectancy</th>\n",
       "    </tr>\n",
       "  </thead>\n",
       "  <tbody>\n",
       "    <tr>\n",
       "      <th>0</th>\n",
       "      <td>South Korea</td>\n",
       "      <td>KOR</td>\n",
       "      <td>2021</td>\n",
       "      <td>60.415630</td>\n",
       "      <td>84.33</td>\n",
       "    </tr>\n",
       "    <tr>\n",
       "      <th>1</th>\n",
       "      <td>Japan</td>\n",
       "      <td>JPN</td>\n",
       "      <td>2021</td>\n",
       "      <td>69.253530</td>\n",
       "      <td>84.71</td>\n",
       "    </tr>\n",
       "    <tr>\n",
       "      <th>2</th>\n",
       "      <td>France</td>\n",
       "      <td>FRA</td>\n",
       "      <td>2021</td>\n",
       "      <td>70.002360</td>\n",
       "      <td>83.33</td>\n",
       "    </tr>\n",
       "    <tr>\n",
       "      <th>3</th>\n",
       "      <td>Israel</td>\n",
       "      <td>ISR</td>\n",
       "      <td>2021</td>\n",
       "      <td>70.687570</td>\n",
       "      <td>82.41</td>\n",
       "    </tr>\n",
       "    <tr>\n",
       "      <th>4</th>\n",
       "      <td>Australia</td>\n",
       "      <td>AUS</td>\n",
       "      <td>2021</td>\n",
       "      <td>71.378100</td>\n",
       "      <td>83.92</td>\n",
       "    </tr>\n",
       "    <tr>\n",
       "      <th>5</th>\n",
       "      <td>Andorra</td>\n",
       "      <td>AND</td>\n",
       "      <td>2021</td>\n",
       "      <td>72.581800</td>\n",
       "      <td>84.04</td>\n",
       "    </tr>\n",
       "    <tr>\n",
       "      <th>6</th>\n",
       "      <td>Luxembourg</td>\n",
       "      <td>LUX</td>\n",
       "      <td>2021</td>\n",
       "      <td>74.000370</td>\n",
       "      <td>82.23</td>\n",
       "    </tr>\n",
       "    <tr>\n",
       "      <th>7</th>\n",
       "      <td>Norway</td>\n",
       "      <td>NOR</td>\n",
       "      <td>2021</td>\n",
       "      <td>74.612976</td>\n",
       "      <td>83.31</td>\n",
       "    </tr>\n",
       "    <tr>\n",
       "      <th>8</th>\n",
       "      <td>Belgium</td>\n",
       "      <td>BEL</td>\n",
       "      <td>2021</td>\n",
       "      <td>75.250534</td>\n",
       "      <td>82.11</td>\n",
       "    </tr>\n",
       "    <tr>\n",
       "      <th>9</th>\n",
       "      <td>Switzerland</td>\n",
       "      <td>CHE</td>\n",
       "      <td>2021</td>\n",
       "      <td>76.227066</td>\n",
       "      <td>83.95</td>\n",
       "    </tr>\n",
       "    <tr>\n",
       "      <th>10</th>\n",
       "      <td>Netherlands</td>\n",
       "      <td>NLD</td>\n",
       "      <td>2021</td>\n",
       "      <td>76.950650</td>\n",
       "      <td>82.16</td>\n",
       "    </tr>\n",
       "    <tr>\n",
       "      <th>11</th>\n",
       "      <td>Spain</td>\n",
       "      <td>ESP</td>\n",
       "      <td>2021</td>\n",
       "      <td>77.095240</td>\n",
       "      <td>83.67</td>\n",
       "    </tr>\n",
       "    <tr>\n",
       "      <th>12</th>\n",
       "      <td>Denmark</td>\n",
       "      <td>DNK</td>\n",
       "      <td>2021</td>\n",
       "      <td>80.034480</td>\n",
       "      <td>81.93</td>\n",
       "    </tr>\n",
       "    <tr>\n",
       "      <th>13</th>\n",
       "      <td>Canada</td>\n",
       "      <td>CAN</td>\n",
       "      <td>2021</td>\n",
       "      <td>80.117714</td>\n",
       "      <td>82.63</td>\n",
       "    </tr>\n",
       "    <tr>\n",
       "      <th>14</th>\n",
       "      <td>Peru</td>\n",
       "      <td>PER</td>\n",
       "      <td>2021</td>\n",
       "      <td>85.201050</td>\n",
       "      <td>77.74</td>\n",
       "    </tr>\n",
       "    <tr>\n",
       "      <th>15</th>\n",
       "      <td>Ireland</td>\n",
       "      <td>IRL</td>\n",
       "      <td>2021</td>\n",
       "      <td>87.086850</td>\n",
       "      <td>82.41</td>\n",
       "    </tr>\n",
       "    <tr>\n",
       "      <th>16</th>\n",
       "      <td>United Kingdom</td>\n",
       "      <td>GBR</td>\n",
       "      <td>2021</td>\n",
       "      <td>87.400470</td>\n",
       "      <td>81.30</td>\n",
       "    </tr>\n",
       "    <tr>\n",
       "      <th>17</th>\n",
       "      <td>Italy</td>\n",
       "      <td>ITA</td>\n",
       "      <td>2021</td>\n",
       "      <td>88.481470</td>\n",
       "      <td>83.72</td>\n",
       "    </tr>\n",
       "    <tr>\n",
       "      <th>18</th>\n",
       "      <td>Iceland</td>\n",
       "      <td>ISL</td>\n",
       "      <td>2021</td>\n",
       "      <td>88.793580</td>\n",
       "      <td>82.69</td>\n",
       "    </tr>\n",
       "    <tr>\n",
       "      <th>19</th>\n",
       "      <td>New Zealand</td>\n",
       "      <td>NZL</td>\n",
       "      <td>2021</td>\n",
       "      <td>89.412100</td>\n",
       "      <td>82.09</td>\n",
       "    </tr>\n",
       "  </tbody>\n",
       "</table>\n",
       "</div>"
      ],
      "text/plain": [
       "           country code  year  cvd_death_rate  life_expectancy\n",
       "0      South Korea  KOR  2021       60.415630            84.33\n",
       "1            Japan  JPN  2021       69.253530            84.71\n",
       "2           France  FRA  2021       70.002360            83.33\n",
       "3           Israel  ISR  2021       70.687570            82.41\n",
       "4        Australia  AUS  2021       71.378100            83.92\n",
       "5          Andorra  AND  2021       72.581800            84.04\n",
       "6       Luxembourg  LUX  2021       74.000370            82.23\n",
       "7           Norway  NOR  2021       74.612976            83.31\n",
       "8          Belgium  BEL  2021       75.250534            82.11\n",
       "9      Switzerland  CHE  2021       76.227066            83.95\n",
       "10     Netherlands  NLD  2021       76.950650            82.16\n",
       "11           Spain  ESP  2021       77.095240            83.67\n",
       "12         Denmark  DNK  2021       80.034480            81.93\n",
       "13          Canada  CAN  2021       80.117714            82.63\n",
       "14            Peru  PER  2021       85.201050            77.74\n",
       "15         Ireland  IRL  2021       87.086850            82.41\n",
       "16  United Kingdom  GBR  2021       87.400470            81.30\n",
       "17           Italy  ITA  2021       88.481470            83.72\n",
       "18         Iceland  ISL  2021       88.793580            82.69\n",
       "19     New Zealand  NZL  2021       89.412100            82.09"
      ]
     },
     "execution_count": 64,
     "metadata": {},
     "output_type": "execute_result"
    }
   ],
   "source": [
    "df_merged = cvd_2021.merge(life_exp, on=\"country\", how=\"inner\")\n",
    "df_merged.head(20)"
   ]
  },
  {
   "cell_type": "markdown",
   "id": "911afeae",
   "metadata": {},
   "source": [
    "Several countries match. We'll create a regplot and find Pearson r to further explore."
   ]
  },
  {
   "cell_type": "code",
   "execution_count": 65,
   "id": "b96aa7f9",
   "metadata": {},
   "outputs": [
    {
     "data": {
      "text/plain": [
       "Text(0, 0.5, 'Life expectancy in years')"
      ]
     },
     "execution_count": 65,
     "metadata": {},
     "output_type": "execute_result"
    },
    {
     "data": {
      "image/png": "[encoded data removed]",
      "text/plain": [
       "<Figure size 640x480 with 1 Axes>"
      ]
     },
     "metadata": {},
     "output_type": "display_data"
    }
   ],
   "source": [
    "sns.regplot(data=df_merged,\n",
    "            x=\"cvd_death_rate\",\n",
    "            y=\"life_expectancy\",\n",
    "            scatter_kws={'color': \"#2b4efe\", 'alpha': 0.6},\n",
    "            line_kws={'color': \"#d91735\", 'linewidth': 2.5})\n",
    "plt.xlabel(\"Cardiovascular disease deaths per 100,000\")\n",
    "plt.ylabel(\"Life expectancy in years\")"
   ]
  },
  {
   "cell_type": "code",
   "execution_count": 66,
   "id": "52a9b41b",
   "metadata": {},
   "outputs": [
    {
     "name": "stdout",
     "output_type": "stream",
     "text": [
      "Correlation, Cardiovascular Disease Deaths & Life Expectancy:  -0.5902588882518945\n",
      "P-value, Cardiovascular Disease Deaths & Life Expectancy:  2.7839514865324054e-18\n",
      "r-squared:  0.34840555516036253\n",
      "r-squared percent: 34.84%\n"
     ]
    }
   ],
   "source": [
    "correlation, p_value = pearsonr(df_merged['cvd_death_rate'], df_merged['life_expectancy'])\n",
    "r_squared = correlation ** 2\n",
    "r_squared_percent = r_squared * 100\n",
    "print(\"Correlation, Cardiovascular Disease Deaths & Life Expectancy: \", correlation)\n",
    "print(\"P-value, Cardiovascular Disease Deaths & Life Expectancy: \", p_value)\n",
    "print(\"r-squared: \", r_squared)\n",
    "print(f\"r-squared percent: {r_squared_percent:.2f}%\")"
   ]
  },
  {
   "cell_type": "markdown",
   "id": "ed8cbaed",
   "metadata": {},
   "source": [
    "**Observations:** A correlation coefficient of -0.6 shows a strong negative correlation between life expectancy and cardiovascular disease. An r-squared of 0.34 of 0.34 indicates that CVD death rates explain 34% of the variation in life expectancy across countries.\n",
    "\n",
    "It's exactly as we suspected. As cardiovascular disease prevalence rises, life expectancy falls.\n",
    "\n",
    "Let's model this data to see if we can predict outcomes. "
   ]
  },
  {
   "cell_type": "code",
   "execution_count": 67,
   "id": "65772783",
   "metadata": {},
   "outputs": [],
   "source": [
    "# reshape the data from 1D to 2D\n",
    "X = df_merged[['cvd_death_rate']]  \n",
    "y = df_merged['life_expectancy']"
   ]
  },
  {
   "cell_type": "code",
   "execution_count": 68,
   "id": "74a52149",
   "metadata": {},
   "outputs": [],
   "source": [
    "# Train, Test, Split\n",
    "X_train, X_test, y_train, y_test = train_test_split(X, y, test_size=.2)"
   ]
  },
  {
   "cell_type": "code",
   "execution_count": 69,
   "id": "b3ed0867",
   "metadata": {},
   "outputs": [
    {
     "name": "stdout",
     "output_type": "stream",
     "text": [
      "predicted values: [73.5048553  78.14573265 76.47856572 67.00820669 79.40935064 78.03727039\n",
      " 63.41767001 71.32194012 76.16041274 79.32184569 68.18946801 75.21990716\n",
      " 72.65377092 72.81769805 75.5597963  70.44112081 68.98603608 72.48395355\n",
      " 72.49079213 63.87489988 79.8547807  73.87601779 72.36939536 77.69491031\n",
      " 80.05228256 65.74211684 76.4316858  72.49062843 71.25823321 71.73117277\n",
      " 73.99239062 71.86929831 72.48015907 79.81803137 65.95201394 74.90687596]\n",
      "intercept: 82.68664575639019 coeficent: [-0.03763249]\n",
      "R²: 0.226985715463621\n",
      "MSE: 47.34867501236143\n",
      "Root Mean Squared Error: 6.8810373500193585\n",
      "Mean Absolute Error: 5.449273015326659\n"
     ]
    }
   ],
   "source": [
    "# Create the Linear Regression estimator\n",
    "lm = LinearRegression()\n",
    "\n",
    "# Perform the fitting\n",
    "lm.fit(X_train, y_train)\n",
    "\n",
    "# Predictions\n",
    "y_pred = lm.predict(X_test)\n",
    "predictions = lm.predict(X_test)\n",
    "print(\"predicted values:\", predictions)\n",
    "\n",
    "# Print coefs\n",
    "print(\"intercept:\", lm.intercept_, \"coeficent:\", lm.coef_)\n",
    "\n",
    "# R² score\n",
    "r2 = lm.score(X_test, y_test)\n",
    "\n",
    "# Errors\n",
    "mse = mean_squared_error(y_test, y_pred)\n",
    "rmse = mse**0.5\n",
    "mae = mean_absolute_error(y_test, y_pred)\n",
    "\n",
    "print(\"R²:\", r2)\n",
    "print(\"MSE:\", mse)\n",
    "print(\"Root Mean Squared Error:\", rmse)\n",
    "print(\"Mean Absolute Error:\", mae)"
   ]
  },
  {
   "cell_type": "markdown",
   "id": "657e2d06",
   "metadata": {},
   "source": [
    "**Observations:** \n",
    "- Intercept: 82.87 (theoretical life expectency for a country with no CVD deaths per 100,000)\n",
    "- Coefficent: -0.03 \n",
    "For every 1-point increase in CVD death rate (per 100k), life expectancy decreases by 0.03 years (about 11 days).\n",
    "So if CVD deaths increase by 100 per 100k people, life expectancy drops by ~3 years.\n",
    "- R-squared: Model explains 15% fo variance in unseen data.\n",
    "- MAE: 5.3 year average error in predictions"
   ]
  },
  {
   "cell_type": "markdown",
   "id": "0bc62896",
   "metadata": {},
   "source": [
    "# Final summary\n",
    "\n",
    "Building a meditation app that targets stress reduction delivers higher ROI for user health than an activity-based approach. \n",
    "\n",
    "It aligns with the client’s mission, targets a massive addressable market (tens of millions of poor sleepers), and positions the company in a fast-growing wellness category.\n"
   ]
  }
 ],
 "metadata": {
  "kernelspec": {
   "display_name": "Python 3",
   "language": "python",
   "name": "python3"
  },
  "language_info": {
   "codemirror_mode": {
    "name": "ipython",
    "version": 3
   },
   "file_extension": ".py",
   "mimetype": "text/x-python",
   "name": "python",
   "nbconvert_exporter": "python",
   "pygments_lexer": "ipython3",
   "version": "3.13.3"
  }
 },
 "nbformat": 4,
 "nbformat_minor": 5
}
