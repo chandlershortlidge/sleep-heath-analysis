{
 "cells": [
  {
   "cell_type": "markdown",
   "id": "5e7fa98a",
   "metadata": {},
   "source": [
    "## Sleep Health Analysis\n",
    "\n",
    "### Business objective: create a new health app. \n",
    "\n",
    "##### Original idea: Create a wearable device that helps users increase daily activity, which indirectly impacts sleep duration. \n",
    "\n",
    "- H0: There is no relationship between sleep duration (X) and physical fitness duration (y)\n",
    "- H1: There is a statistically significant relationship between variable X and variable y."
   ]
  },
  {
   "cell_type": "code",
   "execution_count": 76,
   "id": "02c892f8",
   "metadata": {},
   "outputs": [],
   "source": [
    "import numpy as np\n",
    "import scipy as sp \n",
    "import pandas as pd \n",
    "import matplotlib as mp\n",
    "import matplotlib.pyplot as plt\n",
    "import seaborn as sns\n",
    "import cleaning as cl\n",
    "import functions as fn\n",
    "import importlib\n",
    "importlib.reload(cl)\n",
    "importlib.reload(fn)\n",
    "from scipy.stats import pearsonr\n",
    "import scipy.stats as st\n",
    "from sklearn.model_selection import train_test_split\n",
    "from sklearn.metrics import mean_squared_error, mean_absolute_error, r2_score\n",
    "from sklearn.linear_model import LinearRegression\n",
    "from scipy.stats import pearsonr"
   ]
  },
  {
   "cell_type": "code",
   "execution_count": 77,
   "id": "6b521eff",
   "metadata": {},
   "outputs": [
    {
     "data": {
      "text/html": [
       "<div>\n",
       "<style scoped>\n",
       "    .dataframe tbody tr th:only-of-type {\n",
       "        vertical-align: middle;\n",
       "    }\n",
       "\n",
       "    .dataframe tbody tr th {\n",
       "        vertical-align: top;\n",
       "    }\n",
       "\n",
       "    .dataframe thead th {\n",
       "        text-align: right;\n",
       "    }\n",
       "</style>\n",
       "<table border=\"1\" class=\"dataframe\">\n",
       "  <thead>\n",
       "    <tr style=\"text-align: right;\">\n",
       "      <th></th>\n",
       "      <th>Person ID</th>\n",
       "      <th>Gender</th>\n",
       "      <th>Age</th>\n",
       "      <th>Occupation</th>\n",
       "      <th>Sleep Duration</th>\n",
       "      <th>Quality of Sleep</th>\n",
       "      <th>Physical Activity Level</th>\n",
       "      <th>Stress Level</th>\n",
       "      <th>BMI Category</th>\n",
       "      <th>Blood Pressure</th>\n",
       "      <th>Heart Rate</th>\n",
       "      <th>Daily Steps</th>\n",
       "      <th>Sleep Disorder</th>\n",
       "    </tr>\n",
       "  </thead>\n",
       "  <tbody>\n",
       "    <tr>\n",
       "      <th>0</th>\n",
       "      <td>1</td>\n",
       "      <td>Male</td>\n",
       "      <td>27</td>\n",
       "      <td>Software Engineer</td>\n",
       "      <td>6.1</td>\n",
       "      <td>6</td>\n",
       "      <td>42</td>\n",
       "      <td>6</td>\n",
       "      <td>Overweight</td>\n",
       "      <td>126/83</td>\n",
       "      <td>77</td>\n",
       "      <td>4200</td>\n",
       "      <td>NaN</td>\n",
       "    </tr>\n",
       "    <tr>\n",
       "      <th>1</th>\n",
       "      <td>2</td>\n",
       "      <td>Male</td>\n",
       "      <td>28</td>\n",
       "      <td>Doctor</td>\n",
       "      <td>6.2</td>\n",
       "      <td>6</td>\n",
       "      <td>60</td>\n",
       "      <td>8</td>\n",
       "      <td>Normal</td>\n",
       "      <td>125/80</td>\n",
       "      <td>75</td>\n",
       "      <td>10000</td>\n",
       "      <td>NaN</td>\n",
       "    </tr>\n",
       "    <tr>\n",
       "      <th>2</th>\n",
       "      <td>3</td>\n",
       "      <td>Male</td>\n",
       "      <td>28</td>\n",
       "      <td>Doctor</td>\n",
       "      <td>6.2</td>\n",
       "      <td>6</td>\n",
       "      <td>60</td>\n",
       "      <td>8</td>\n",
       "      <td>Normal</td>\n",
       "      <td>125/80</td>\n",
       "      <td>75</td>\n",
       "      <td>10000</td>\n",
       "      <td>NaN</td>\n",
       "    </tr>\n",
       "    <tr>\n",
       "      <th>3</th>\n",
       "      <td>4</td>\n",
       "      <td>Male</td>\n",
       "      <td>28</td>\n",
       "      <td>Sales Representative</td>\n",
       "      <td>5.9</td>\n",
       "      <td>4</td>\n",
       "      <td>30</td>\n",
       "      <td>8</td>\n",
       "      <td>Obese</td>\n",
       "      <td>140/90</td>\n",
       "      <td>85</td>\n",
       "      <td>3000</td>\n",
       "      <td>Sleep Apnea</td>\n",
       "    </tr>\n",
       "    <tr>\n",
       "      <th>4</th>\n",
       "      <td>5</td>\n",
       "      <td>Male</td>\n",
       "      <td>28</td>\n",
       "      <td>Sales Representative</td>\n",
       "      <td>5.9</td>\n",
       "      <td>4</td>\n",
       "      <td>30</td>\n",
       "      <td>8</td>\n",
       "      <td>Obese</td>\n",
       "      <td>140/90</td>\n",
       "      <td>85</td>\n",
       "      <td>3000</td>\n",
       "      <td>Sleep Apnea</td>\n",
       "    </tr>\n",
       "  </tbody>\n",
       "</table>\n",
       "</div>"
      ],
      "text/plain": [
       "   Person ID Gender  Age            Occupation  Sleep Duration  \\\n",
       "0          1   Male   27     Software Engineer             6.1   \n",
       "1          2   Male   28                Doctor             6.2   \n",
       "2          3   Male   28                Doctor             6.2   \n",
       "3          4   Male   28  Sales Representative             5.9   \n",
       "4          5   Male   28  Sales Representative             5.9   \n",
       "\n",
       "   Quality of Sleep  Physical Activity Level  Stress Level BMI Category  \\\n",
       "0                 6                       42             6   Overweight   \n",
       "1                 6                       60             8       Normal   \n",
       "2                 6                       60             8       Normal   \n",
       "3                 4                       30             8        Obese   \n",
       "4                 4                       30             8        Obese   \n",
       "\n",
       "  Blood Pressure  Heart Rate  Daily Steps Sleep Disorder  \n",
       "0         126/83          77         4200            NaN  \n",
       "1         125/80          75        10000            NaN  \n",
       "2         125/80          75        10000            NaN  \n",
       "3         140/90          85         3000    Sleep Apnea  \n",
       "4         140/90          85         3000    Sleep Apnea  "
      ]
     },
     "execution_count": 77,
     "metadata": {},
     "output_type": "execute_result"
    }
   ],
   "source": [
    "health = pd.read_csv(\"/Users/chandlershortlidge/Desktop/Ironhack/sleep-heath-analysis/data/Sleep_health_and_lifestyle_dataset.csv\")\n",
    "health.head()"
   ]
  },
  {
   "cell_type": "code",
   "execution_count": 78,
   "id": "1ed6870c",
   "metadata": {},
   "outputs": [
    {
     "name": "stdout",
     "output_type": "stream",
     "text": [
      "<class 'pandas.core.frame.DataFrame'>\n",
      "RangeIndex: 374 entries, 0 to 373\n",
      "Data columns (total 13 columns):\n",
      " #   Column                   Non-Null Count  Dtype  \n",
      "---  ------                   --------------  -----  \n",
      " 0   Person ID                374 non-null    int64  \n",
      " 1   Gender                   374 non-null    object \n",
      " 2   Age                      374 non-null    int64  \n",
      " 3   Occupation               374 non-null    object \n",
      " 4   Sleep Duration           374 non-null    float64\n",
      " 5   Quality of Sleep         374 non-null    int64  \n",
      " 6   Physical Activity Level  374 non-null    int64  \n",
      " 7   Stress Level             374 non-null    int64  \n",
      " 8   BMI Category             374 non-null    object \n",
      " 9   Blood Pressure           374 non-null    object \n",
      " 10  Heart Rate               374 non-null    int64  \n",
      " 11  Daily Steps              374 non-null    int64  \n",
      " 12  Sleep Disorder           155 non-null    object \n",
      "dtypes: float64(1), int64(7), object(5)\n",
      "memory usage: 38.1+ KB\n"
     ]
    }
   ],
   "source": [
    "health.info()"
   ]
  },
  {
   "cell_type": "code",
   "execution_count": 79,
   "id": "3c024749",
   "metadata": {},
   "outputs": [
    {
     "data": {
      "text/plain": [
       "np.int64(219)"
      ]
     },
     "execution_count": 79,
     "metadata": {},
     "output_type": "execute_result"
    }
   ],
   "source": [
    "# view NA\n",
    "health[\"Sleep Disorder\"].isnull().sum()"
   ]
  },
  {
   "cell_type": "code",
   "execution_count": 80,
   "id": "e42550d5",
   "metadata": {},
   "outputs": [
    {
     "data": {
      "text/plain": [
       "array([nan, 'Sleep Apnea', 'Insomnia'], dtype=object)"
      ]
     },
     "execution_count": 80,
     "metadata": {},
     "output_type": "execute_result"
    }
   ],
   "source": [
    "# view unique to understand what NaNs are\n",
    "health[\"Sleep Disorder\"].unique()"
   ]
  },
  {
   "cell_type": "code",
   "execution_count": 81,
   "id": "35742adb",
   "metadata": {},
   "outputs": [
    {
     "data": {
      "text/html": [
       "<div>\n",
       "<style scoped>\n",
       "    .dataframe tbody tr th:only-of-type {\n",
       "        vertical-align: middle;\n",
       "    }\n",
       "\n",
       "    .dataframe tbody tr th {\n",
       "        vertical-align: top;\n",
       "    }\n",
       "\n",
       "    .dataframe thead th {\n",
       "        text-align: right;\n",
       "    }\n",
       "</style>\n",
       "<table border=\"1\" class=\"dataframe\">\n",
       "  <thead>\n",
       "    <tr style=\"text-align: right;\">\n",
       "      <th></th>\n",
       "      <th>id</th>\n",
       "      <th>gender</th>\n",
       "      <th>age</th>\n",
       "      <th>occupation</th>\n",
       "      <th>sleep_hours</th>\n",
       "      <th>sleep_quality</th>\n",
       "      <th>activity_min_per_day</th>\n",
       "      <th>stress_level</th>\n",
       "      <th>bmi_category</th>\n",
       "      <th>blood_pressure</th>\n",
       "      <th>rhr</th>\n",
       "      <th>daily_steps</th>\n",
       "      <th>sleep_disorder</th>\n",
       "    </tr>\n",
       "  </thead>\n",
       "  <tbody>\n",
       "    <tr>\n",
       "      <th>0</th>\n",
       "      <td>1</td>\n",
       "      <td>Male</td>\n",
       "      <td>27</td>\n",
       "      <td>Software Engineer</td>\n",
       "      <td>6.1</td>\n",
       "      <td>6</td>\n",
       "      <td>42</td>\n",
       "      <td>6</td>\n",
       "      <td>Overweight</td>\n",
       "      <td>126/83</td>\n",
       "      <td>77</td>\n",
       "      <td>4200</td>\n",
       "      <td>None</td>\n",
       "    </tr>\n",
       "    <tr>\n",
       "      <th>1</th>\n",
       "      <td>2</td>\n",
       "      <td>Male</td>\n",
       "      <td>28</td>\n",
       "      <td>Doctor</td>\n",
       "      <td>6.2</td>\n",
       "      <td>6</td>\n",
       "      <td>60</td>\n",
       "      <td>8</td>\n",
       "      <td>Normal</td>\n",
       "      <td>125/80</td>\n",
       "      <td>75</td>\n",
       "      <td>10000</td>\n",
       "      <td>None</td>\n",
       "    </tr>\n",
       "    <tr>\n",
       "      <th>2</th>\n",
       "      <td>3</td>\n",
       "      <td>Male</td>\n",
       "      <td>28</td>\n",
       "      <td>Doctor</td>\n",
       "      <td>6.2</td>\n",
       "      <td>6</td>\n",
       "      <td>60</td>\n",
       "      <td>8</td>\n",
       "      <td>Normal</td>\n",
       "      <td>125/80</td>\n",
       "      <td>75</td>\n",
       "      <td>10000</td>\n",
       "      <td>None</td>\n",
       "    </tr>\n",
       "    <tr>\n",
       "      <th>3</th>\n",
       "      <td>4</td>\n",
       "      <td>Male</td>\n",
       "      <td>28</td>\n",
       "      <td>Sales Representative</td>\n",
       "      <td>5.9</td>\n",
       "      <td>4</td>\n",
       "      <td>30</td>\n",
       "      <td>8</td>\n",
       "      <td>Obese</td>\n",
       "      <td>140/90</td>\n",
       "      <td>85</td>\n",
       "      <td>3000</td>\n",
       "      <td>Sleep Apnea</td>\n",
       "    </tr>\n",
       "    <tr>\n",
       "      <th>4</th>\n",
       "      <td>5</td>\n",
       "      <td>Male</td>\n",
       "      <td>28</td>\n",
       "      <td>Sales Representative</td>\n",
       "      <td>5.9</td>\n",
       "      <td>4</td>\n",
       "      <td>30</td>\n",
       "      <td>8</td>\n",
       "      <td>Obese</td>\n",
       "      <td>140/90</td>\n",
       "      <td>85</td>\n",
       "      <td>3000</td>\n",
       "      <td>Sleep Apnea</td>\n",
       "    </tr>\n",
       "  </tbody>\n",
       "</table>\n",
       "</div>"
      ],
      "text/plain": [
       "   id gender  age            occupation  sleep_hours  sleep_quality  \\\n",
       "0   1   Male   27     Software Engineer          6.1              6   \n",
       "1   2   Male   28                Doctor          6.2              6   \n",
       "2   3   Male   28                Doctor          6.2              6   \n",
       "3   4   Male   28  Sales Representative          5.9              4   \n",
       "4   5   Male   28  Sales Representative          5.9              4   \n",
       "\n",
       "   activity_min_per_day  stress_level bmi_category blood_pressure  rhr  \\\n",
       "0                    42             6   Overweight         126/83   77   \n",
       "1                    60             8       Normal         125/80   75   \n",
       "2                    60             8       Normal         125/80   75   \n",
       "3                    30             8        Obese         140/90   85   \n",
       "4                    30             8        Obese         140/90   85   \n",
       "\n",
       "   daily_steps sleep_disorder  \n",
       "0         4200           None  \n",
       "1        10000           None  \n",
       "2        10000           None  \n",
       "3         3000    Sleep Apnea  \n",
       "4         3000    Sleep Apnea  "
      ]
     },
     "execution_count": 81,
     "metadata": {},
     "output_type": "execute_result"
    }
   ],
   "source": [
    "# call function for cleaning all data\n",
    "health = cl.clean_data(health)\n",
    "# fill NaN values with \"None\"\n",
    "# turn columns into lowercase\n",
    "# replace \" \" with \"_\" in column nanes\n",
    "# rename columns\n",
    "# remove duplicates\n",
    "health.head()"
   ]
  },
  {
   "cell_type": "markdown",
   "id": "29f00499",
   "metadata": {},
   "source": [
    "## EDA"
   ]
  },
  {
   "cell_type": "code",
   "execution_count": 82,
   "id": "b867b309",
   "metadata": {},
   "outputs": [
    {
     "data": {
      "image/png": "[encoded data removed]",
      "text/plain": [
       "<Figure size 1000x800 with 9 Axes>"
      ]
     },
     "metadata": {},
     "output_type": "display_data"
    }
   ],
   "source": [
    "# all numeric histograms in one grid\n",
    "health.hist(bins=20, figsize=(10, 8), edgecolor=\"black\")\n",
    "plt.tight_layout()\n",
    "plt.show()"
   ]
  },
  {
   "cell_type": "code",
   "execution_count": 83,
   "id": "7d6a2b9a",
   "metadata": {},
   "outputs": [
    {
     "name": "stdout",
     "output_type": "stream",
     "text": [
      "Avg. Sleep Hours:  7.13\n",
      "Median Sleep Hours:  7.2\n"
     ]
    }
   ],
   "source": [
    "print(\"Avg. Sleep Hours: \", str(health.sleep_hours.mean().round(2)))\n",
    "print(\"Median Sleep Hours: \", str(health.sleep_hours.median().round(2)))"
   ]
  },
  {
   "cell_type": "markdown",
   "id": "68e22994",
   "metadata": {},
   "source": [
    "### Sleep and activity"
   ]
  },
  {
   "cell_type": "code",
   "execution_count": 84,
   "id": "752493b9",
   "metadata": {},
   "outputs": [
    {
     "data": {
      "text/plain": [
       "Text(0, 0.5, 'Sleep Hours per Night')"
      ]
     },
     "execution_count": 84,
     "metadata": {},
     "output_type": "execute_result"
    },
    {
     "data": {
      "image/png": "[encoded data removed]",
      "text/plain": [
       "<Figure size 640x480 with 1 Axes>"
      ]
     },
     "metadata": {},
     "output_type": "display_data"
    }
   ],
   "source": [
    "sns.regplot(\n",
    "    data=health,\n",
    "    x=\"activity_min_per_day\",\n",
    "    y=\"sleep_hours\"\n",
    "    \n",
    ")\n",
    "plt.xlabel(\"Minutes of Activity per Day\")\n",
    "plt.ylabel(\"Sleep Hours per Night\")"
   ]
  },
  {
   "cell_type": "markdown",
   "id": "b48a5179",
   "metadata": {},
   "source": [
    "**Observations:** \n",
    "Generally, more physical activity associates with more sleep. But the clusters suggest the data might be somewhat artificial or grouped (maybe survey categories?)."
   ]
  },
  {
   "cell_type": "code",
   "execution_count": 85,
   "id": "78dfbc40",
   "metadata": {},
   "outputs": [
    {
     "name": "stdout",
     "output_type": "stream",
     "text": [
      "Correlation, Activity & Sleep:  0.21236031472575906\n",
      "P-value, Activity & Sleep:  3.4666184358492465e-05\n",
      "r-squared:  0.04509690327042344\n",
      "r-squared percent: 4.51%\n"
     ]
    }
   ],
   "source": [
    "from scipy.stats import pearsonr\n",
    "correlation, p_value = pearsonr(health['activity_min_per_day'], health['sleep_hours'])\n",
    "r_squared = correlation ** 2\n",
    "r_squared_percent = r_squared * 100\n",
    "print(\"Correlation, Activity & Sleep: \", correlation)\n",
    "print(\"P-value, Activity & Sleep: \", p_value)\n",
    "print(\"r-squared: \", r_squared)\n",
    "print(f\"r-squared percent: {r_squared_percent:.2f}%\")"
   ]
  },
  {
   "cell_type": "markdown",
   "id": "8e49adee",
   "metadata": {},
   "source": [
    "**Observations:** A correlation coefficient of 0.21 shows a slightly positive relationship between the variables. Further analysis shows an r-squared of 0.04. This means only 4% of the variation in people's sleep can be attributed to activity levels. The other 96% is due to other factors. But a  A p-value well below 0.05 shows strong statistical evidence against our null hypothesis, suggesting that there is a statistically significant relationship between sleep duration and physical fitness duration.*"
   ]
  },
  {
   "cell_type": "markdown",
   "id": "a66ad77c",
   "metadata": {},
   "source": [
    "### Activity levels and stress levels"
   ]
  },
  {
   "cell_type": "code",
   "execution_count": 86,
   "id": "89a0afa4",
   "metadata": {},
   "outputs": [
    {
     "data": {
      "text/plain": [
       "Text(0, 0.5, 'Minutes of Activity per Day')"
      ]
     },
     "execution_count": 86,
     "metadata": {},
     "output_type": "execute_result"
    },
    {
     "data": {
      "image/png": "[encoded data removed]",
      "text/plain": [
       "<Figure size 640x480 with 1 Axes>"
      ]
     },
     "metadata": {},
     "output_type": "display_data"
    }
   ],
   "source": [
    "sns.regplot(\n",
    "    data=health,\n",
    "    x=\"stress_level\",\n",
    "    y=\"activity_min_per_day\"\n",
    "    \n",
    ")\n",
    "plt.xlabel(\"Stress Level\")\n",
    "plt.ylabel(\"Minutes of Activity per Day\")"
   ]
  },
  {
   "cell_type": "markdown",
   "id": "61909cec",
   "metadata": {},
   "source": [
    "**Observations:** There is no correlation between activity and stress. This increases the likelyhood that other variables have more impact on sleep duration."
   ]
  },
  {
   "cell_type": "code",
   "execution_count": 87,
   "id": "643d8596",
   "metadata": {},
   "outputs": [
    {
     "name": "stdout",
     "output_type": "stream",
     "text": [
      "sleep_hours             1.000000\n",
      "sleep_quality           0.883213\n",
      "age                     0.344709\n",
      "activity_min_per_day    0.212360\n",
      "daily_steps            -0.039533\n",
      "rhr                    -0.516455\n",
      "stress_level           -0.811023\n",
      "Name: sleep_hours, dtype: float64\n"
     ]
    }
   ],
   "source": [
    "# Pick predictors and outcome\n",
    "features = [\"age\", \"sleep_quality\", \"activity_min_per_day\", \"stress_level\", \"bmi_category\", \n",
    "            \"blood_pressure\", \"rhr\", \"daily_steps\", \"sleep_disorder\"]\n",
    "outcome = \"sleep_hours\"\n",
    "\n",
    "# Calculate correlations with outcome\n",
    "correlations = health[features + [outcome]].corr(numeric_only=True)[outcome].sort_values(ascending=False)\n",
    "\n",
    "print(correlations)"
   ]
  },
  {
   "cell_type": "markdown",
   "id": "b088ad5d",
   "metadata": {},
   "source": [
    "### Stress and sleep"
   ]
  },
  {
   "cell_type": "code",
   "execution_count": 88,
   "id": "f6709099",
   "metadata": {},
   "outputs": [
    {
     "data": {
      "text/plain": [
       "Text(0, 0.5, 'Sleep Hours per Night')"
      ]
     },
     "execution_count": 88,
     "metadata": {},
     "output_type": "execute_result"
    },
    {
     "data": {
      "image/png": "[encoded data removed]",
      "text/plain": [
       "<Figure size 640x480 with 1 Axes>"
      ]
     },
     "metadata": {},
     "output_type": "display_data"
    }
   ],
   "source": [
    "sns.regplot(\n",
    "    data=health,\n",
    "    x=\"stress_level\",\n",
    "    y=\"sleep_hours\"\n",
    "    \n",
    ")\n",
    "plt.xlabel(\"Stress Level\")\n",
    "plt.ylabel(\"Sleep Hours per Night\")"
   ]
  },
  {
   "cell_type": "markdown",
   "id": "d8fba0f1",
   "metadata": {},
   "source": [
    "**Observations:** The regplot confirms the correlation analysis, showing a strong and direct negative trend between sleep and stress. "
   ]
  },
  {
   "cell_type": "code",
   "execution_count": 89,
   "id": "71eb3ebb",
   "metadata": {},
   "outputs": [
    {
     "name": "stdout",
     "output_type": "stream",
     "text": [
      "Correlation, Stress & Sleep:  -0.8110230278940431\n",
      "P-value, Stress & Sleep:  1.2378076181537577e-88\n",
      "r-squared:  0.6577583517744219\n",
      "r-squared percent: 65.78%\n"
     ]
    }
   ],
   "source": [
    "from scipy.stats import pearsonr\n",
    "correlation, p_value = pearsonr(health['stress_level'], health['sleep_hours'])\n",
    "r_squared = correlation ** 2\n",
    "r_squared_percent = r_squared * 100\n",
    "print(\"Correlation, Stress & Sleep: \", correlation)\n",
    "print(\"P-value, Stress & Sleep: \", p_value)\n",
    "print(\"r-squared: \", r_squared)\n",
    "print(f\"r-squared percent: {r_squared_percent:.2f}%\")"
   ]
  },
  {
   "cell_type": "markdown",
   "id": "c0381ee4",
   "metadata": {},
   "source": [
    "**Observations:** We can see from our r-squared that stress explains ~66% of the variation in sleep hours—much stronger than activity levels. The low p-value (<0.05) gives confidence that this high variation is not due to an error or chance.  "
   ]
  },
  {
   "cell_type": "markdown",
   "id": "5b04d7cb",
   "metadata": {},
   "source": [
    "### RHR and stress"
   ]
  },
  {
   "cell_type": "code",
   "execution_count": 90,
   "id": "ac0ecd0c",
   "metadata": {},
   "outputs": [
    {
     "data": {
      "text/plain": [
       "Text(0, 0.5, 'Stress Level')"
      ]
     },
     "execution_count": 90,
     "metadata": {},
     "output_type": "execute_result"
    },
    {
     "data": {
      "image/png": "[encoded data removed]",
      "text/plain": [
       "<Figure size 640x480 with 1 Axes>"
      ]
     },
     "metadata": {},
     "output_type": "display_data"
    }
   ],
   "source": [
    "sns.regplot(\n",
    "    data=health,\n",
    "    x=\"rhr\",\n",
    "    y=\"stress_level\"\n",
    ")\n",
    "plt.xlabel(\"RHR\")\n",
    "plt.ylabel(\"Stress Level\")"
   ]
  },
  {
   "cell_type": "markdown",
   "id": "b01878d1",
   "metadata": {},
   "source": [
    "**Observation:** The cluster at the bottom (where the CI is tightest) indicates that lower RHR is associated with lower stress level. "
   ]
  },
  {
   "cell_type": "code",
   "execution_count": 91,
   "id": "8c0f7f96",
   "metadata": {},
   "outputs": [
    {
     "name": "stdout",
     "output_type": "stream",
     "text": [
      "Correlation, Stress & Resting Heart Rate:  0.6700264629986893\n",
      "P-value, Stress & Resting Heart Rate:  4.492926517161453e-50\n",
      "r-squared:  0.44893546111853394\n",
      "r-squared percent: 44.89%\n"
     ]
    }
   ],
   "source": [
    "from scipy.stats import pearsonr\n",
    "correlation, p_value = pearsonr(health['stress_level'], health['rhr'])\n",
    "r_squared = correlation ** 2\n",
    "r_squared_percent = r_squared * 100\n",
    "print(\"Correlation, Stress & Resting Heart Rate: \", correlation)\n",
    "print(\"P-value, Stress & Resting Heart Rate: \", p_value)\n",
    "print(\"r-squared: \", r_squared)\n",
    "print(f\"r-squared percent: {r_squared_percent:.2f}%\")"
   ]
  },
  {
   "cell_type": "markdown",
   "id": "1e82a83d",
   "metadata": {},
   "source": [
    "**Observation:** Stress explains 45% of the variation in sleep duration. This is another strong datapoint showing that stress is a key variable in sleep length. "
   ]
  },
  {
   "cell_type": "code",
   "execution_count": 92,
   "id": "1432d1a5",
   "metadata": {},
   "outputs": [
    {
     "data": {
      "text/plain": [
       "Text(0, 0.5, 'Sleep Quality')"
      ]
     },
     "execution_count": 92,
     "metadata": {},
     "output_type": "execute_result"
    },
    {
     "data": {
      "image/png": "[encoded data removed]",
      "text/plain": [
       "<Figure size 640x480 with 1 Axes>"
      ]
     },
     "metadata": {},
     "output_type": "display_data"
    }
   ],
   "source": [
    "sns.regplot(\n",
    "    data=health,\n",
    "    x=\"rhr\",\n",
    "    y=\"sleep_quality\"\n",
    ")\n",
    "plt.xlabel(\"RHR\")\n",
    "plt.ylabel(\"Sleep Quality\")"
   ]
  },
  {
   "cell_type": "code",
   "execution_count": 93,
   "id": "9a55ecf7",
   "metadata": {},
   "outputs": [
    {
     "name": "stdout",
     "output_type": "stream",
     "text": [
      "Correlation, Sleep Quality & Resting Heart Rate:  -0.6598647331480081\n",
      "P-value, Sleep Quality & Resting Heart Rate:  4.1319986233668486e-48\n",
      "r-squared:  0.43542146605249193\n",
      "r-squared percent: 43.54%\n"
     ]
    }
   ],
   "source": [
    "from scipy.stats import pearsonr\n",
    "correlation, p_value = pearsonr(health['sleep_quality'], health['rhr'])\n",
    "r_squared = correlation ** 2\n",
    "r_squared_percent = r_squared * 100\n",
    "print(\"Correlation, Sleep Quality & Resting Heart Rate: \", correlation)\n",
    "print(\"P-value, Sleep Quality & Resting Heart Rate: \", p_value)\n",
    "print(\"r-squared: \", r_squared)\n",
    "print(f\"r-squared percent: {r_squared_percent:.2f}%\")"
   ]
  },
  {
   "cell_type": "markdown",
   "id": "c8443751",
   "metadata": {},
   "source": [
    "**Observation:** Stress explains 44% of the variation in sleep quality. This is another strong datapoint showing that stress is a key variable in a person's ability to sleep. "
   ]
  },
  {
   "cell_type": "code",
   "execution_count": 94,
   "id": "2b6d6745",
   "metadata": {},
   "outputs": [
    {
     "data": {
      "text/plain": [
       "Text(0, 0.5, 'sleep hours')"
      ]
     },
     "execution_count": 94,
     "metadata": {},
     "output_type": "execute_result"
    },
    {
     "data": {
      "image/png": "[encoded data removed]",
      "text/plain": [
       "<Figure size 640x480 with 1 Axes>"
      ]
     },
     "metadata": {},
     "output_type": "display_data"
    }
   ],
   "source": [
    "sns.regplot(\n",
    "    data=health,\n",
    "    x=\"age\",\n",
    "    y=\"sleep_hours\"\n",
    "    \n",
    ")\n",
    "plt.xlabel(\"age\")\n",
    "plt.ylabel(\"sleep hours\")"
   ]
  },
  {
   "cell_type": "markdown",
   "id": "031f411c",
   "metadata": {},
   "source": [
    "### BMI categories and sleep"
   ]
  },
  {
   "cell_type": "code",
   "execution_count": 95,
   "id": "b997f156",
   "metadata": {},
   "outputs": [
    {
     "data": {
      "text/plain": [
       "Text(0, 0.5, 'Sleep Hours')"
      ]
     },
     "execution_count": 95,
     "metadata": {},
     "output_type": "execute_result"
    },
    {
     "data": {
      "image/png": "[encoded data removed]",
      "text/plain": [
       "<Figure size 640x480 with 1 Axes>"
      ]
     },
     "metadata": {},
     "output_type": "display_data"
    }
   ],
   "source": [
    "sns.boxplot(\n",
    "    data=health,\n",
    "    x=\"bmi_category\",\n",
    "    y=\"sleep_hours\"\n",
    ")\n",
    "plt.xlabel(\"BMI Category\")\n",
    "plt.ylabel(\"Sleep Hours\")"
   ]
  },
  {
   "cell_type": "code",
   "execution_count": 96,
   "id": "c1cb5a8e",
   "metadata": {},
   "outputs": [
    {
     "name": "stdout",
     "output_type": "stream",
     "text": [
      "Results:  F_onewayResult(statistic=np.float64(31.001718690897327), pvalue=np.float64(3.545813768064132e-13))\n"
     ]
    }
   ],
   "source": [
    "df_normal = health[health[\"bmi_category\"]==\"Normal\"][\"sleep_hours\"]\n",
    "df_overweight = health[health[\"bmi_category\"]==\"Overweight\"][\"sleep_hours\"]\n",
    "df_obease = health[health[\"bmi_category\"]==\"Obese\"][\"sleep_hours\"]\n",
    "\n",
    "# H0: BMI does not impact sleep hours\n",
    "# H1: BMI does impact sleep hours\n",
    "\n",
    "#Significance level: 5%\n",
    "alpha = 0.05\n",
    "\n",
    "results = st.f_oneway(df_normal, df_overweight, df_obease)\n",
    "print(\"Results: \", str(results))\n"
   ]
  },
  {
   "cell_type": "markdown",
   "id": "8f6b8f82",
   "metadata": {},
   "source": [
    "**Observations:** The boxplot showed variation in sleep hours between BMI groups—generally lower for overweight and obese people. The boxplot was chosen in order to handle outliers. A simple bar chart showed much less variation between groups due to these outliers distorting the mean. To confirm the hypothesis that BMI impacts sleep, I ran an ANOVA test. A large f-statistic (31) and extremely small p-value (<0.05) indicates that we can reject the null hypothesis. "
   ]
  },
  {
   "cell_type": "markdown",
   "id": "974e0e64",
   "metadata": {},
   "source": [
    "### Blood Pressure and Stress"
   ]
  },
  {
   "cell_type": "code",
   "execution_count": 97,
   "id": "a92dd886",
   "metadata": {},
   "outputs": [],
   "source": [
    "# apply function to create columns for systolic and diastolic\n",
    "health = fn.create_bp_columns(health)"
   ]
  },
  {
   "cell_type": "code",
   "execution_count": 98,
   "id": "33715c43",
   "metadata": {},
   "outputs": [
    {
     "data": {
      "text/plain": [
       "bp_category\n",
       "High (Stage 1)    232\n",
       "High (Stage 2)    100\n",
       "Normal             41\n",
       "Elevated            1\n",
       "Name: count, dtype: int64"
      ]
     },
     "execution_count": 98,
     "metadata": {},
     "output_type": "execute_result"
    }
   ],
   "source": [
    "# apply function to create rows for blood pressure categories \n",
    "health[\"bp_category\"] = health.apply(fn.bp_category, axis=1)\n",
    "\n",
    "health[\"bp_category\"].value_counts()"
   ]
  },
  {
   "cell_type": "code",
   "execution_count": 99,
   "id": "b1b6a605",
   "metadata": {},
   "outputs": [
    {
     "data": {
      "text/plain": [
       "Text(0, 0.5, 'Stress level')"
      ]
     },
     "execution_count": 99,
     "metadata": {},
     "output_type": "execute_result"
    },
    {
     "data": {
      "image/png": "[encoded data removed]",
      "text/plain": [
       "<Figure size 640x480 with 1 Axes>"
      ]
     },
     "metadata": {},
     "output_type": "display_data"
    }
   ],
   "source": [
    "sns.barplot(\n",
    "    data=health,\n",
    "    x=\"bp_category\",\n",
    "    y=\"stress_level\"\n",
    ")\n",
    "plt.xlabel(\"BP Category\")\n",
    "plt.ylabel(\"Stress level\")\n",
    "\n",
    "\n",
    "# elevated n=1, not statistically significant"
   ]
  },
  {
   "cell_type": "code",
   "execution_count": 100,
   "id": "7e543e70",
   "metadata": {},
   "outputs": [
    {
     "name": "stdout",
     "output_type": "stream",
     "text": [
      "Results:  F_onewayResult(statistic=np.float64(16.07468925983478), pvalue=np.float64(2.0213876326838604e-07))\n"
     ]
    }
   ],
   "source": [
    "bp_normal = health[health[\"bp_category\"]==\"Normal\"][\"stress_level\"]\n",
    "bp_high_1 = health[health[\"bp_category\"]==\"High (Stage 1)\"][\"stress_level\"]\n",
    "bp_high_2 = health[health[\"bp_category\"]==\"High (Stage 2)\"][\"stress_level\"]\n",
    "\n",
    "# H0: High stress is not correlated to high blood pressure\n",
    "# H1: High stress is correlated to high blood pressure\n",
    "\n",
    "#Significance level: 5%\n",
    "alpha = 0.05\n",
    "\n",
    "results = st.f_oneway(bp_normal, bp_high_1, bp_high_2)\n",
    "print(\"Results: \", str(results))\n"
   ]
  },
  {
   "cell_type": "markdown",
   "id": "99799333",
   "metadata": {},
   "source": [
    "**Observations:** Stress and high blood pressure have a statistically significant relationship."
   ]
  },
  {
   "cell_type": "code",
   "execution_count": 101,
   "id": "58fbddb6",
   "metadata": {},
   "outputs": [
    {
     "name": "stdout",
     "output_type": "stream",
     "text": [
      "rhr                     1.000000\n",
      "stress_level            0.670026\n",
      "activity_min_per_day    0.136971\n",
      "daily_steps            -0.030309\n",
      "age                    -0.225606\n",
      "sleep_hours            -0.516455\n",
      "sleep_quality          -0.659865\n",
      "Name: rhr, dtype: float64\n"
     ]
    }
   ],
   "source": [
    "# Pick predictors and outcome\n",
    "features = [\"age\", \"sleep_quality\", \"activity_min_per_day\", \"stress_level\", \"bmi_category\", \n",
    "            \"blood_pressure\", \"sleep_hours\", \"daily_steps\", \"sleep_disorder\"]\n",
    "outcome = \"rhr\"\n",
    "\n",
    "# Calculate correlations with outcome\n",
    "correlations = health[features + [outcome]].corr(numeric_only=True)[outcome].sort_values(ascending=False)\n",
    "\n",
    "print(correlations)"
   ]
  },
  {
   "cell_type": "markdown",
   "id": "2916f5d0",
   "metadata": {},
   "source": [
    "# Machine Learning "
   ]
  },
  {
   "cell_type": "code",
   "execution_count": 102,
   "id": "d34e99ee",
   "metadata": {},
   "outputs": [],
   "source": [
    "# reshape the data from 1D to 2D\n",
    "X = health[['stress_level']]  \n",
    "y = health['sleep_hours']"
   ]
  },
  {
   "cell_type": "code",
   "execution_count": 103,
   "id": "58f25f58",
   "metadata": {},
   "outputs": [],
   "source": [
    "# Train, Test, Split\n",
    "X_train, X_test, y_train, y_test = train_test_split(X, y, test_size=.2)"
   ]
  },
  {
   "cell_type": "code",
   "execution_count": 104,
   "id": "4cb01b26",
   "metadata": {},
   "outputs": [
    {
     "name": "stdout",
     "output_type": "stream",
     "text": [
      "predicted values: [8.0016493  8.0016493  6.53778683 7.26971807 7.63568369 6.53778683\n",
      " 6.17182121 6.17182121 7.63568369 7.26971807 6.90375245 7.26971807\n",
      " 6.90375245 6.90375245 6.53778683 7.26971807 6.17182121 7.63568369\n",
      " 8.0016493  6.90375245 6.53778683 7.26971807 7.26971807 7.26971807\n",
      " 6.17182121 6.17182121 7.26971807 7.26971807 8.0016493  7.26971807\n",
      " 8.0016493  7.26971807 6.17182121 6.53778683 6.17182121 6.90375245\n",
      " 6.17182121 7.26971807 7.63568369 7.26971807 6.53778683 7.63568369\n",
      " 8.0016493  8.0016493  7.63568369 8.0016493  6.90375245 7.26971807\n",
      " 7.26971807 6.17182121 8.0016493  7.26971807 6.53778683 8.0016493\n",
      " 6.17182121 7.63568369 7.63568369 7.63568369 7.63568369 6.90375245\n",
      " 7.63568369 7.63568369 8.0016493  6.53778683 6.53778683 8.0016493\n",
      " 7.26971807 7.26971807 7.26971807 6.53778683 8.0016493  6.90375245\n",
      " 7.63568369 6.90375245 7.63568369]\n",
      "intercept: 9.09954615781331 coeficent: [-0.36596562]\n",
      "R²: 0.5914031470612384\n",
      "MSE: 0.2273251291149963\n",
      "Root Mean Squared Error: 0.4767862509710156\n",
      "Mean Absolute Error: 0.35978614406051207\n"
     ]
    }
   ],
   "source": [
    "# Create the Linear Regression estimator\n",
    "lm = LinearRegression()\n",
    "\n",
    "# Perform the fitting\n",
    "lm.fit(X_train, y_train)\n",
    "\n",
    "# Predictions\n",
    "y_pred = lm.predict(X_test)\n",
    "predictions = lm.predict(X_test)\n",
    "print(\"predicted values:\", predictions)\n",
    "\n",
    "# Print coefs\n",
    "print(\"intercept:\", lm.intercept_, \"coeficent:\", lm.coef_)\n",
    "\n",
    "# R² score\n",
    "r2 = lm.score(X_test, y_test)\n",
    "\n",
    "# Errors\n",
    "mse = mean_squared_error(y_test, y_pred)\n",
    "rmse = mse**0.5\n",
    "mae = mean_absolute_error(y_test, y_pred)\n",
    "\n",
    "print(\"R²:\", r2)\n",
    "print(\"MSE:\", mse)\n",
    "print(\"Root Mean Squared Error:\", rmse)\n",
    "print(\"Mean Absolute Error:\", mae)"
   ]
  },
  {
   "cell_type": "markdown",
   "id": "0b8790d5",
   "metadata": {},
   "source": [
    "**Observations:** \n",
    "- Intercept: 91.2 hours (theoretical sleep with zero stress)\n",
    "- Coeficent: -0.37. For every 1-point increase in stress you lose .37 hours (22 minutes) of sleep.\n",
    "- R-squared: Model explains 61% fo variance in unseen data.\n",
    "- MAE: 0.35 hours (~21 minutes average error in predictions)"
   ]
  },
  {
   "cell_type": "code",
   "execution_count": null,
   "id": "99f63cb2",
   "metadata": {},
   "outputs": [],
   "source": []
  },
  {
   "cell_type": "markdown",
   "id": "06ecec1a",
   "metadata": {},
   "source": [
    "# Connecting an API: Our World In Data"
   ]
  },
  {
   "cell_type": "code",
   "execution_count": 105,
   "id": "82ba3d93",
   "metadata": {},
   "outputs": [],
   "source": [
    "import pandas as pd\n",
    "import requests\n",
    "\n",
    "# Fetch the data.\n",
    "cvd_data = pd.read_csv(\"https://ourworldindata.org/grapher/death-rate-from-cardiovascular-disease-age-standardized-ghe.csv?v=1&csvType=full&useColumnShortNames=true\", storage_options = {'User-Agent': 'Our World In Data data fetch/1.0'})\n",
    "\n",
    "# Fetch the metadata\n",
    "metadata = requests.get(\"https://ourworldindata.org/grapher/death-rate-from-cardiovascular-disease-age-standardized-ghe.metadata.json?v=1&csvType=full&useColumnShortNames=true\").json()"
   ]
  },
  {
   "cell_type": "code",
   "execution_count": 119,
   "id": "a72f1f7b",
   "metadata": {},
   "outputs": [
    {
     "data": {
      "text/html": [
       "<div>\n",
       "<style scoped>\n",
       "    .dataframe tbody tr th:only-of-type {\n",
       "        vertical-align: middle;\n",
       "    }\n",
       "\n",
       "    .dataframe tbody tr th {\n",
       "        vertical-align: top;\n",
       "    }\n",
       "\n",
       "    .dataframe thead th {\n",
       "        text-align: right;\n",
       "    }\n",
       "</style>\n",
       "<table border=\"1\" class=\"dataframe\">\n",
       "  <thead>\n",
       "    <tr style=\"text-align: right;\">\n",
       "      <th></th>\n",
       "      <th>country</th>\n",
       "      <th>code</th>\n",
       "      <th>year</th>\n",
       "      <th>death_rate</th>\n",
       "    </tr>\n",
       "  </thead>\n",
       "  <tbody>\n",
       "    <tr>\n",
       "      <th>3409</th>\n",
       "      <td>San Marino</td>\n",
       "      <td>SMR</td>\n",
       "      <td>2021</td>\n",
       "      <td>60.133038</td>\n",
       "    </tr>\n",
       "    <tr>\n",
       "      <th>3717</th>\n",
       "      <td>South Korea</td>\n",
       "      <td>KOR</td>\n",
       "      <td>2021</td>\n",
       "      <td>60.415630</td>\n",
       "    </tr>\n",
       "    <tr>\n",
       "      <th>1979</th>\n",
       "      <td>Japan</td>\n",
       "      <td>JPN</td>\n",
       "      <td>2021</td>\n",
       "      <td>69.253530</td>\n",
       "    </tr>\n",
       "    <tr>\n",
       "      <th>1451</th>\n",
       "      <td>France</td>\n",
       "      <td>FRA</td>\n",
       "      <td>2021</td>\n",
       "      <td>70.002360</td>\n",
       "    </tr>\n",
       "    <tr>\n",
       "      <th>1913</th>\n",
       "      <td>Israel</td>\n",
       "      <td>ISR</td>\n",
       "      <td>2021</td>\n",
       "      <td>70.687570</td>\n",
       "    </tr>\n",
       "    <tr>\n",
       "      <th>241</th>\n",
       "      <td>Australia</td>\n",
       "      <td>AUS</td>\n",
       "      <td>2021</td>\n",
       "      <td>71.378100</td>\n",
       "    </tr>\n",
       "    <tr>\n",
       "      <th>109</th>\n",
       "      <td>Andorra</td>\n",
       "      <td>AND</td>\n",
       "      <td>2021</td>\n",
       "      <td>72.581800</td>\n",
       "    </tr>\n",
       "    <tr>\n",
       "      <th>2287</th>\n",
       "      <td>Luxembourg</td>\n",
       "      <td>LUX</td>\n",
       "      <td>2021</td>\n",
       "      <td>74.000370</td>\n",
       "    </tr>\n",
       "    <tr>\n",
       "      <th>2969</th>\n",
       "      <td>Norway</td>\n",
       "      <td>NOR</td>\n",
       "      <td>2021</td>\n",
       "      <td>74.612976</td>\n",
       "    </tr>\n",
       "    <tr>\n",
       "      <th>417</th>\n",
       "      <td>Belgium</td>\n",
       "      <td>BEL</td>\n",
       "      <td>2021</td>\n",
       "      <td>75.250534</td>\n",
       "    </tr>\n",
       "    <tr>\n",
       "      <th>3871</th>\n",
       "      <td>Switzerland</td>\n",
       "      <td>CHE</td>\n",
       "      <td>2021</td>\n",
       "      <td>76.227066</td>\n",
       "    </tr>\n",
       "    <tr>\n",
       "      <th>2771</th>\n",
       "      <td>Netherlands</td>\n",
       "      <td>NLD</td>\n",
       "      <td>2021</td>\n",
       "      <td>76.950650</td>\n",
       "    </tr>\n",
       "    <tr>\n",
       "      <th>3761</th>\n",
       "      <td>Spain</td>\n",
       "      <td>ESP</td>\n",
       "      <td>2021</td>\n",
       "      <td>77.095240</td>\n",
       "    </tr>\n",
       "    <tr>\n",
       "      <th>1099</th>\n",
       "      <td>Denmark</td>\n",
       "      <td>DNK</td>\n",
       "      <td>2021</td>\n",
       "      <td>80.034480</td>\n",
       "    </tr>\n",
       "    <tr>\n",
       "      <th>725</th>\n",
       "      <td>Canada</td>\n",
       "      <td>CAN</td>\n",
       "      <td>2021</td>\n",
       "      <td>80.117714</td>\n",
       "    </tr>\n",
       "  </tbody>\n",
       "</table>\n",
       "</div>"
      ],
      "text/plain": [
       "          country code  year  death_rate\n",
       "3409   San Marino  SMR  2021   60.133038\n",
       "3717  South Korea  KOR  2021   60.415630\n",
       "1979        Japan  JPN  2021   69.253530\n",
       "1451       France  FRA  2021   70.002360\n",
       "1913       Israel  ISR  2021   70.687570\n",
       "241     Australia  AUS  2021   71.378100\n",
       "109       Andorra  AND  2021   72.581800\n",
       "2287   Luxembourg  LUX  2021   74.000370\n",
       "2969       Norway  NOR  2021   74.612976\n",
       "417       Belgium  BEL  2021   75.250534\n",
       "3871  Switzerland  CHE  2021   76.227066\n",
       "2771  Netherlands  NLD  2021   76.950650\n",
       "3761        Spain  ESP  2021   77.095240\n",
       "1099      Denmark  DNK  2021   80.034480\n",
       "725        Canada  CAN  2021   80.117714"
      ]
     },
     "execution_count": 119,
     "metadata": {},
     "output_type": "execute_result"
    }
   ],
   "source": [
    "cvd_data = cl.clean_cvd_data(cvd_data) # apply wraper function\n",
    "\n",
    "#view by top 15\n",
    "cvd_15 = cvd_data[cvd_data[\"year\"] == 2021].sort_values(by=\"death_rate\", ascending=True).head(15)\n",
    "\n",
    "cvd_15"
   ]
  },
  {
   "cell_type": "markdown",
   "id": "13fe8cd2",
   "metadata": {},
   "source": [
    "# Webscraping Wikipedia"
   ]
  },
  {
   "cell_type": "code",
   "execution_count": 109,
   "id": "d6d949da",
   "metadata": {},
   "outputs": [],
   "source": [
    "url = 'https://en.wikipedia.org/wiki/List_of_countries_by_life_expectancy'\n",
    "response = requests.get(url, headers={'User-Agent': 'Mozilla/5.0'})\n",
    "tables = pd.read_html(response.content)"
   ]
  },
  {
   "cell_type": "code",
   "execution_count": 110,
   "id": "04d3dfe5",
   "metadata": {},
   "outputs": [],
   "source": [
    "life_exp = tables[1]  # find correct table\n",
    "life_exp = cl.clean_wiki_data(life_exp)  # clean it using # clean_wiki_data wrapper function"
   ]
  },
  {
   "cell_type": "code",
   "execution_count": 121,
   "id": "e28fbd2d",
   "metadata": {},
   "outputs": [
    {
     "data": {
      "text/html": [
       "<div>\n",
       "<style scoped>\n",
       "    .dataframe tbody tr th:only-of-type {\n",
       "        vertical-align: middle;\n",
       "    }\n",
       "\n",
       "    .dataframe tbody tr th {\n",
       "        vertical-align: top;\n",
       "    }\n",
       "\n",
       "    .dataframe thead th {\n",
       "        text-align: right;\n",
       "    }\n",
       "</style>\n",
       "<table border=\"1\" class=\"dataframe\">\n",
       "  <thead>\n",
       "    <tr style=\"text-align: right;\">\n",
       "      <th></th>\n",
       "      <th>country</th>\n",
       "      <th>life_expectancy</th>\n",
       "    </tr>\n",
       "  </thead>\n",
       "  <tbody>\n",
       "    <tr>\n",
       "      <th>1</th>\n",
       "      <td>Japan</td>\n",
       "      <td>84.71</td>\n",
       "    </tr>\n",
       "    <tr>\n",
       "      <th>2</th>\n",
       "      <td>South Korea</td>\n",
       "      <td>84.33</td>\n",
       "    </tr>\n",
       "    <tr>\n",
       "      <th>3</th>\n",
       "      <td>French Polynesia</td>\n",
       "      <td>84.07</td>\n",
       "    </tr>\n",
       "    <tr>\n",
       "      <th>4</th>\n",
       "      <td>Andorra</td>\n",
       "      <td>84.04</td>\n",
       "    </tr>\n",
       "    <tr>\n",
       "      <th>5</th>\n",
       "      <td>Switzerland</td>\n",
       "      <td>83.95</td>\n",
       "    </tr>\n",
       "    <tr>\n",
       "      <th>6</th>\n",
       "      <td>Australia</td>\n",
       "      <td>83.92</td>\n",
       "    </tr>\n",
       "    <tr>\n",
       "      <th>7</th>\n",
       "      <td>Singapore</td>\n",
       "      <td>83.74</td>\n",
       "    </tr>\n",
       "    <tr>\n",
       "      <th>8</th>\n",
       "      <td>Italy</td>\n",
       "      <td>83.72</td>\n",
       "    </tr>\n",
       "    <tr>\n",
       "      <th>9</th>\n",
       "      <td>Spain</td>\n",
       "      <td>83.67</td>\n",
       "    </tr>\n",
       "    <tr>\n",
       "      <th>10</th>\n",
       "      <td>Réunion</td>\n",
       "      <td>83.55</td>\n",
       "    </tr>\n",
       "    <tr>\n",
       "      <th>11</th>\n",
       "      <td>France</td>\n",
       "      <td>83.33</td>\n",
       "    </tr>\n",
       "    <tr>\n",
       "      <th>12</th>\n",
       "      <td>Norway</td>\n",
       "      <td>83.31</td>\n",
       "    </tr>\n",
       "    <tr>\n",
       "      <th>13</th>\n",
       "      <td>Malta</td>\n",
       "      <td>83.30</td>\n",
       "    </tr>\n",
       "    <tr>\n",
       "      <th>14</th>\n",
       "      <td>Guernsey</td>\n",
       "      <td>83.27</td>\n",
       "    </tr>\n",
       "    <tr>\n",
       "      <th>15</th>\n",
       "      <td>Sweden</td>\n",
       "      <td>83.26</td>\n",
       "    </tr>\n",
       "  </tbody>\n",
       "</table>\n",
       "</div>"
      ],
      "text/plain": [
       "             country  life_expectancy\n",
       "1              Japan            84.71\n",
       "2        South Korea            84.33\n",
       "3   French Polynesia            84.07\n",
       "4            Andorra            84.04\n",
       "5        Switzerland            83.95\n",
       "6          Australia            83.92\n",
       "7          Singapore            83.74\n",
       "8              Italy            83.72\n",
       "9              Spain            83.67\n",
       "10           Réunion            83.55\n",
       "11            France            83.33\n",
       "12            Norway            83.31\n",
       "13             Malta            83.30\n",
       "14          Guernsey            83.27\n",
       "15            Sweden            83.26"
      ]
     },
     "execution_count": 121,
     "metadata": {},
     "output_type": "execute_result"
    }
   ],
   "source": [
    "life_exp_15 = life_exp.sort_values(by=\"life_expectancy\", ascending=False).head(15)\n",
    "life_exp_15"
   ]
  },
  {
   "cell_type": "markdown",
   "id": "c4f65d15",
   "metadata": {},
   "source": [
    "## Merge CVD data and life expectancy data"
   ]
  },
  {
   "cell_type": "code",
   "execution_count": 124,
   "id": "57b5644c",
   "metadata": {},
   "outputs": [
    {
     "data": {
      "text/html": [
       "<div>\n",
       "<style scoped>\n",
       "    .dataframe tbody tr th:only-of-type {\n",
       "        vertical-align: middle;\n",
       "    }\n",
       "\n",
       "    .dataframe tbody tr th {\n",
       "        vertical-align: top;\n",
       "    }\n",
       "\n",
       "    .dataframe thead th {\n",
       "        text-align: right;\n",
       "    }\n",
       "</style>\n",
       "<table border=\"1\" class=\"dataframe\">\n",
       "  <thead>\n",
       "    <tr style=\"text-align: right;\">\n",
       "      <th></th>\n",
       "      <th>country</th>\n",
       "      <th>code</th>\n",
       "      <th>year</th>\n",
       "      <th>death_rate</th>\n",
       "      <th>life_expectancy</th>\n",
       "    </tr>\n",
       "  </thead>\n",
       "  <tbody>\n",
       "    <tr>\n",
       "      <th>0</th>\n",
       "      <td>South Korea</td>\n",
       "      <td>KOR</td>\n",
       "      <td>2021</td>\n",
       "      <td>60.415630</td>\n",
       "      <td>84.33</td>\n",
       "    </tr>\n",
       "    <tr>\n",
       "      <th>1</th>\n",
       "      <td>Japan</td>\n",
       "      <td>JPN</td>\n",
       "      <td>2021</td>\n",
       "      <td>69.253530</td>\n",
       "      <td>84.71</td>\n",
       "    </tr>\n",
       "    <tr>\n",
       "      <th>2</th>\n",
       "      <td>France</td>\n",
       "      <td>FRA</td>\n",
       "      <td>2021</td>\n",
       "      <td>70.002360</td>\n",
       "      <td>83.33</td>\n",
       "    </tr>\n",
       "    <tr>\n",
       "      <th>3</th>\n",
       "      <td>Australia</td>\n",
       "      <td>AUS</td>\n",
       "      <td>2021</td>\n",
       "      <td>71.378100</td>\n",
       "      <td>83.92</td>\n",
       "    </tr>\n",
       "    <tr>\n",
       "      <th>4</th>\n",
       "      <td>Andorra</td>\n",
       "      <td>AND</td>\n",
       "      <td>2021</td>\n",
       "      <td>72.581800</td>\n",
       "      <td>84.04</td>\n",
       "    </tr>\n",
       "    <tr>\n",
       "      <th>5</th>\n",
       "      <td>Norway</td>\n",
       "      <td>NOR</td>\n",
       "      <td>2021</td>\n",
       "      <td>74.612976</td>\n",
       "      <td>83.31</td>\n",
       "    </tr>\n",
       "    <tr>\n",
       "      <th>6</th>\n",
       "      <td>Switzerland</td>\n",
       "      <td>CHE</td>\n",
       "      <td>2021</td>\n",
       "      <td>76.227066</td>\n",
       "      <td>83.95</td>\n",
       "    </tr>\n",
       "    <tr>\n",
       "      <th>7</th>\n",
       "      <td>Spain</td>\n",
       "      <td>ESP</td>\n",
       "      <td>2021</td>\n",
       "      <td>77.095240</td>\n",
       "      <td>83.67</td>\n",
       "    </tr>\n",
       "  </tbody>\n",
       "</table>\n",
       "</div>"
      ],
      "text/plain": [
       "       country code  year  death_rate  life_expectancy\n",
       "0  South Korea  KOR  2021   60.415630            84.33\n",
       "1        Japan  JPN  2021   69.253530            84.71\n",
       "2       France  FRA  2021   70.002360            83.33\n",
       "3    Australia  AUS  2021   71.378100            83.92\n",
       "4      Andorra  AND  2021   72.581800            84.04\n",
       "5       Norway  NOR  2021   74.612976            83.31\n",
       "6  Switzerland  CHE  2021   76.227066            83.95\n",
       "7        Spain  ESP  2021   77.095240            83.67"
      ]
     },
     "execution_count": 124,
     "metadata": {},
     "output_type": "execute_result"
    }
   ],
   "source": [
    "df_merged = cvd_15.merge(life_exp_15, on=\"country\", how=\"inner\")\n",
    "df_merged"
   ]
  },
  {
   "cell_type": "code",
   "execution_count": null,
   "id": "b96aa7f9",
   "metadata": {},
   "outputs": [],
   "source": []
  }
 ],
 "metadata": {
  "kernelspec": {
   "display_name": "Python 3",
   "language": "python",
   "name": "python3"
  },
  "language_info": {
   "codemirror_mode": {
    "name": "ipython",
    "version": 3
   },
   "file_extension": ".py",
   "mimetype": "text/x-python",
   "name": "python",
   "nbconvert_exporter": "python",
   "pygments_lexer": "ipython3",
   "version": "3.13.3"
  }
 },
 "nbformat": 4,
 "nbformat_minor": 5
}
